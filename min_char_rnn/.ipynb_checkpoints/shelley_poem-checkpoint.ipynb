{
 "cells": [
  {
   "cell_type": "markdown",
   "metadata": {},
   "source": [
    "# TV Script Generation\n",
    "In this project, you'll generate your own [Simpsons](https://en.wikipedia.org/wiki/The_Simpsons) TV scripts using RNNs.  You'll be using part of the [Simpsons dataset](https://www.kaggle.com/wcukierski/the-simpsons-by-the-data) of scripts from 27 seasons.  The Neural Network you'll build will generate a new TV script for a scene at [Moe's Tavern](https://simpsonswiki.com/wiki/Moe's_Tavern).\n",
    "## Get the Data\n",
    "The data is already provided for you.  You'll be using a subset of the original dataset.  It consists of only the scenes in Moe's Tavern.  This doesn't include other versions of the tavern, like \"Moe's Cavern\", \"Flaming Moe's\", \"Uncle Moe's Family Feed-Bag\", etc.."
   ]
  },
  {
   "cell_type": "code",
   "execution_count": 1,
   "metadata": {
    "collapsed": true
   },
   "outputs": [],
   "source": [
    "import helper\n",
    "import os\n",
    "import csv\n",
    "data_dir = './data/poem.csv'"
   ]
  },
  {
   "cell_type": "code",
   "execution_count": 2,
   "metadata": {},
   "outputs": [],
   "source": [
    "import io\n",
    "def load_data(path):\n",
    "    \"\"\"\n",
    "    Load Dataset from File\n",
    "    \"\"\"\n",
    "    input_file = os.path.join(path)\n",
    "    tittles = []\n",
    "    contents = []\n",
    "    with io.open(input_file, \"r\", encoding = 'utf-8') as f:\n",
    "        data = csv.reader(f)\n",
    "        for row in data:\n",
    "            tittles.append(row[0])\n",
    "            contents.append(row[1])\n",
    "\n",
    "    return tittles[1:], contents[1:]"
   ]
  },
  {
   "cell_type": "code",
   "execution_count": null,
   "metadata": {},
   "outputs": [],
   "source": []
  },
  {
   "cell_type": "code",
   "execution_count": 3,
   "metadata": {},
   "outputs": [],
   "source": [
    "tittles,contents = load_data(data_dir)"
   ]
  },
  {
   "cell_type": "code",
   "execution_count": 5,
   "metadata": {
    "collapsed": true
   },
   "outputs": [],
   "source": [
    "poems = \"\"\n",
    "for poem in contents:\n",
    "    poems += poem"
   ]
  },
  {
   "cell_type": "markdown",
   "metadata": {},
   "source": [
    "## Explore the Data\n",
    "Play around with `view_sentence_range` to view different parts of the data."
   ]
  },
  {
   "cell_type": "code",
   "execution_count": 6,
   "metadata": {},
   "outputs": [
    {
     "name": "stdout",
     "output_type": "stream",
     "text": [
      "Dataset Stats\n",
      "Roughly the number of unique words: 34240\n",
      "Number of poems: 324\n",
      "Average number of sentences in each poem: 5472.0\n",
      "Number of lines: 5796\n",
      "Average number of words in each line: 23.32246376811594\n",
      "\n",
      "The sentences 0 to 10:\n",
      "                        A scene, which 'wildered fancy viewedIn the soul's coldest solitude,With that same scene when peaceful loveFlings rapture's colour o'er the grove,When mountain, meadow, wood and stream With unalloying glory gleam,And to the spirit's ear and eyeAre unison and harmony\n",
      "The moonlight was my dearer day;Then would I wander far away, And, lingering on the wild brook's shoreTo hear its unremitting roar,Would lose in the ideal flowAll sense of overwhelming woe;Or at the noiseless noon of nightWould climb some heathy mountain's height,And listen to the mystic soundThat stole in fitful gasps around\n",
      "I joyed to see the streaks of dayAbove the purple peaks decay, And watch the latest line of lightJust mingling with the shades of night;For day with me was time of woeWhen even tears refused to flow;Then would I stretch my languid frame Beneath the wild woods' gloomiest shade,And try to quench the ceaseless flameThat on my withered vitals preyed;Would close mine eyes and dream I wereOn some remote and friendless plain, And long to leave existence there,If with it I might leave the painThat with a finger cold and leanWrote madness on my withering mien\n",
      "It was not unrequited loveThat bade my ‘wildered spirit rove;'Twas not the pride disdaining life,That with this mortal world at strifeWould yield to the soul's inward sense,Then groan in human impotence,And weep because it is not givenTo taste on Earth the peace of Heaven\n",
      "'Twas not that in the narrow sphereWhere Nature fixed my wayward fateThere was no friend or kindred dearFormed to become that spirit's mate,Which, searching on tired pinion, foundBarren and cold repulse around;Oh, no! yet each one sorrow gaveNew graces to the narrow grave\n",
      " For broken vows had early quelledThe stainless spirit's vestal flame;Yes! whilst the faithful bosom swelled,Then the envenomed arrow came,And Apathy's unaltering eye Beamed coldness on the misery;And early I had learned to scornThe chains of clay that bound a soulPanting to seize the wings of morn,And where its vital fires were born To soar, and spur the cold controlWhich the vile slaves of earthly nightWould twine around its struggling flight\n",
      "Oh, many were the friends whom fameHad linked with the unmeaning name, Whose magic marked among mankindThe casket of my unknown mind,Which hidden from the vulgar glareImbibed no fleeting radiance there\n",
      "My darksome spirit sought--it found A friendless solitude around\n",
      "For who that might undaunted stand,The saviour of a sinking land,Would crawl, its ruthless tyrant's slave,And fatten upon Freedom's grave, Though doomed with her to perish, whereThe captive clasps abhorred despair\n",
      "They could not share the bosom's feeling,Which, passion's every throb revealing,Dared force on the world's notice coldThoughts of unprofitable mould,Who bask in Custom's fickle ray,Fit sunshine of such wintry day!They could not in a twilight walkWeave an impassioned web of talk,Till mysteries the spirits pressIn wild yet tender awfulness,Then feel within our narrow sphereHow little yet how great we are!But they might shine in courtly glare,Attract the rabble's cheapest stare,And might command where'er they moveA thing that bears the name of love;They might be learned, witty, gay,Foremost in fashion's gilt array,On Fame's emblazoned pages shine,Be princes' friends, but never mine!Ye jagged peaks that frown sublime,Mocking the blunted scythe of Time,Whence I would watch its lustre pale Steal from the moon o'er yonder valeThou rock, whose bosom black and vast,Bared to the stream's unceasing flow,Ever its giant shade doth castOn the tumultuous surge below: Woods, to whose depths retires to dieThe wounded Echo's melody,And whither this lone spirit bentThe footstep of a wild intent:Meadows! whose green and spangled breastThese fevered limbs have often pressed,Until the watchful fiend DespairSlept in the soothing coolness there!Have not your varied beauties seenThe sunken eye, the withering mien, Sad traces of the unuttered painThat froze my heart and burned my brain\n"
     ]
    }
   ],
   "source": [
    "view_sentence_range = (0, 10)\n",
    "\n",
    "\"\"\"\n",
    "contents:list version of the poems\n",
    "poems:str version of the poems\n",
    "\"\"\"\n",
    "import numpy as np\n",
    "\n",
    "print('Dataset Stats')\n",
    "print('Roughly the number of unique words: {}'.format(len({word: None for word in poems.split()})))\n",
    "\n",
    "print('Number of poems: {}'.format(len(contents)))\n",
    "sentence_count_poem = [poems.count('.') for poem in contents]\n",
    "print('Average number of sentences in each poem: {}'.format(np.average(sentence_count_poem)))\n",
    "\n",
    "sentences = [sentence for poem in contents for sentence in poem.split('.')]\n",
    "print('Number of lines: {}'.format(len(sentences)))\n",
    "word_count_sentence = [len(sentence.split()) for sentence in sentences]\n",
    "print('Average number of words in each line: {}'.format(np.average(word_count_sentence)))\n",
    "\n",
    "print()\n",
    "print('The sentences {} to {}:'.format(*view_sentence_range))\n",
    "print('\\n'.join(poems.split('.')[view_sentence_range[0]:view_sentence_range[1]]))"
   ]
  },
  {
   "cell_type": "markdown",
   "metadata": {},
   "source": [
    "## Implement Preprocessing Functions\n",
    "The first thing to do to any dataset is preprocessing.  Implement the following preprocessing functions below:\n",
    "- Lookup Table\n",
    "- Tokenize Punctuation\n",
    "\n",
    "### Lookup Table\n",
    "To create a word embedding, you first need to transform the words to ids.  In this function, create two dictionaries:\n",
    "- Dictionary to go from the words to an id, we'll call `vocab_to_int`\n",
    "- Dictionary to go from the id to word, we'll call `int_to_vocab`\n",
    "\n",
    "Return these dictionaries in the following tuple `(vocab_to_int, int_to_vocab)`"
   ]
  },
  {
   "cell_type": "code",
   "execution_count": 7,
   "metadata": {},
   "outputs": [
    {
     "name": "stdout",
     "output_type": "stream",
     "text": [
      "Tests Passed\n"
     ]
    }
   ],
   "source": [
    "import numpy as np\n",
    "import problem_unittests as tests\n",
    "from collections import Counter\n",
    "\n",
    "def create_lookup_tables(text):\n",
    "    \"\"\"\n",
    "    Create lookup tables for vocabulary\n",
    "    :param text: The text of tv scripts split into words\n",
    "    :return: A tuple of dicts (vocab_to_int, int_to_vocab)\n",
    "    \"\"\"\n",
    "    # TODO: Implement Function\n",
    "    word_counts = Counter(text)\n",
    "    sorted_vocab = sorted(word_counts, key=word_counts.get, reverse=True)\n",
    "    int_to_vocab = {ii: word for ii, word in enumerate(sorted_vocab)}\n",
    "    vocab_to_int = {word: ii for ii, word in int_to_vocab.items()}\n",
    "\n",
    "    return vocab_to_int, int_to_vocab\n",
    "\n",
    "\n",
    "\"\"\"\n",
    "DON'T MODIFY ANYTHING IN THIS CELL THAT IS BELOW THIS LINE\n",
    "\"\"\"\n",
    "tests.test_create_lookup_tables(create_lookup_tables)"
   ]
  },
  {
   "cell_type": "markdown",
   "metadata": {},
   "source": [
    "### Tokenize Punctuation\n",
    "We'll be splitting the script into a word array using spaces as delimiters.  However, punctuations like periods and exclamation marks make it hard for the neural network to distinguish between the word \"bye\" and \"bye!\".\n",
    "\n",
    "Implement the function `token_lookup` to return a dict that will be used to tokenize symbols like \"!\" into \"||Exclamation_Mark||\".  Create a dictionary for the following symbols where the symbol is the key and value is the token:\n",
    "- Period ( . )\n",
    "- Comma ( , )\n",
    "- Quotation Mark ( \" )\n",
    "- Semicolon ( ; )\n",
    "- Exclamation mark ( ! )\n",
    "- Question mark ( ? )\n",
    "- Left Parentheses ( ( )\n",
    "- Right Parentheses ( ) )\n",
    "- Dash ( -- )\n",
    "- Return ( \\n )\n",
    "\n",
    "This dictionary will be used to token the symbols and add the delimiter (space) around it.  This separates the symbols as it's own word, making it easier for the neural network to predict on the next word. Make sure you don't use a token that could be confused as a word. Instead of using the token \"dash\", try using something like \"||dash||\"."
   ]
  },
  {
   "cell_type": "code",
   "execution_count": 8,
   "metadata": {},
   "outputs": [
    {
     "name": "stdout",
     "output_type": "stream",
     "text": [
      "Tests Passed\n"
     ]
    }
   ],
   "source": [
    "def token_lookup():\n",
    "    \"\"\"\n",
    "    Generate a dict to turn punctuation into a token.\n",
    "    :return: Tokenize dictionary where the key is the punctuation and the value is the token\n",
    "    \"\"\"\n",
    "    # TODO: Implement Function\n",
    "    punk_dict = {'.':'||Period||',\n",
    "                ',':'||Comma||',\n",
    "                '\"':'||Quotation_mark||',\n",
    "                ';':'||Semicolon||',\n",
    "                '!':'||Exclamation_mark||',\n",
    "                '?':'||Question_mark||',\n",
    "                '(':'||Left_Parentheses||',\n",
    "                ')':'||Right_Parentheses||',\n",
    "                '--':'||Dash||',\n",
    "                '\\n':'||Return||'}\n",
    "    \n",
    "    return punk_dict\n",
    "\n",
    "\"\"\"\n",
    "DON'T MODIFY ANYTHING IN THIS CELL THAT IS BELOW THIS LINE\n",
    "\"\"\"\n",
    "tests.test_tokenize(token_lookup)"
   ]
  },
  {
   "cell_type": "markdown",
   "metadata": {},
   "source": [
    "## Preprocess all the data and save it\n",
    "Running the code cell below will preprocess all the data and save it to file."
   ]
  },
  {
   "cell_type": "code",
   "execution_count": 11,
   "metadata": {},
   "outputs": [],
   "source": [
    "# Preprocess Training, Validation, and Testing Data\n",
    "import pickle\n",
    "def preprocess_and_save_data(text, token_lookup, create_lookup_tables):\n",
    "    \"\"\"\n",
    "    Preprocess Text Data\n",
    "    \"\"\"\n",
    "\n",
    "    # Ignore notice, since we don't use it for analysing the data\n",
    "\n",
    "    token_dict = token_lookup()\n",
    "    for key, token in token_dict.items():\n",
    "        text = text.replace(key, ' {} '.format(token))\n",
    "\n",
    "    text = text.lower()\n",
    "    text = text.split()\n",
    "\n",
    "    vocab_to_int, int_to_vocab = create_lookup_tables(text)\n",
    "    int_text = [vocab_to_int[word] for word in text]\n",
    "    pickle.dump((int_text, vocab_to_int, int_to_vocab, token_dict), open('preprocess.p', 'wb'))\n"
   ]
  },
  {
   "cell_type": "code",
   "execution_count": 12,
   "metadata": {
    "collapsed": true
   },
   "outputs": [],
   "source": [
    "preprocess_and_save_data(poems, token_lookup, create_lookup_tables)"
   ]
  },
  {
   "cell_type": "markdown",
   "metadata": {},
   "source": [
    "# Check Point\n",
    "This is your first checkpoint. If you ever decide to come back to this notebook or have to restart the notebook, you can start from here. The preprocessed data has been saved to disk."
   ]
  },
  {
   "cell_type": "code",
   "execution_count": 13,
   "metadata": {
    "collapsed": true
   },
   "outputs": [],
   "source": [
    "\"\"\"\n",
    "DON'T MODIFY ANYTHING IN THIS CELL\n",
    "\"\"\"\n",
    "import helper\n",
    "import numpy as np\n",
    "import problem_unittests as tests\n",
    "\n",
    "int_text, vocab_to_int, int_to_vocab, token_dict = helper.load_preprocess()"
   ]
  },
  {
   "cell_type": "markdown",
   "metadata": {},
   "source": [
    "## Build the Neural Network\n",
    "You'll build the components necessary to build a RNN by implementing the following functions below:\n",
    "- get_inputs\n",
    "- get_init_cell\n",
    "- get_embed\n",
    "- build_rnn\n",
    "- build_nn\n",
    "- get_batches\n",
    "\n",
    "### Check the Version of TensorFlow and Access to GPU"
   ]
  },
  {
   "cell_type": "code",
   "execution_count": 14,
   "metadata": {},
   "outputs": [
    {
     "name": "stdout",
     "output_type": "stream",
     "text": [
      "TensorFlow Version: 1.0.0\n",
      "Default GPU Device: /gpu:0\n"
     ]
    }
   ],
   "source": [
    "\"\"\"\n",
    "DON'T MODIFY ANYTHING IN THIS CELL\n",
    "\"\"\"\n",
    "from distutils.version import LooseVersion\n",
    "import warnings\n",
    "import tensorflow as tf\n",
    "\n",
    "# Check TensorFlow Version\n",
    "assert LooseVersion(tf.__version__) >= LooseVersion('1.0'), 'Please use TensorFlow version 1.0 or newer'\n",
    "print('TensorFlow Version: {}'.format(tf.__version__))\n",
    "\n",
    "# Check for a GPU\n",
    "if not tf.test.gpu_device_name():\n",
    "    warnings.warn('No GPU found. Please use a GPU to train your neural network.')\n",
    "else:\n",
    "    print('Default GPU Device: {}'.format(tf.test.gpu_device_name()))"
   ]
  },
  {
   "cell_type": "markdown",
   "metadata": {},
   "source": [
    "### Input\n",
    "Implement the `get_inputs()` function to create TF Placeholders for the Neural Network.  It should create the following placeholders:\n",
    "- Input text placeholder named \"input\" using the [TF Placeholder](https://www.tensorflow.org/api_docs/python/tf/placeholder) `name` parameter.\n",
    "- Targets placeholder\n",
    "- Learning Rate placeholder\n",
    "\n",
    "Return the placeholders in the following tuple `(Input, Targets, LearningRate)`"
   ]
  },
  {
   "cell_type": "code",
   "execution_count": 15,
   "metadata": {},
   "outputs": [
    {
     "name": "stdout",
     "output_type": "stream",
     "text": [
      "Tests Passed\n"
     ]
    }
   ],
   "source": [
    "def get_inputs():\n",
    "    \"\"\"\n",
    "    Create TF Placeholders for input, targets, and learning rate.\n",
    "    :return: Tuple (input, targets, learning rate)\n",
    "    \"\"\"\n",
    "    # TODO: Implement Function\n",
    "    # Declare placeholders we'll feed into the graph\n",
    "    inputs = tf.placeholder(tf.int32, [None,None], name='input')\n",
    "    targets = tf.placeholder(tf.int32, [None,None], name='targets')\n",
    "    \n",
    "    # Keep probability placeholder for drop out layers\n",
    "    learning_rate = tf.placeholder(tf.float32, name='learning_rate')\n",
    "    \n",
    "    \n",
    "    \n",
    "    return inputs, targets, learning_rate\n",
    "\n",
    "\n",
    "\"\"\"\n",
    "DON'T MODIFY ANYTHING IN THIS CELL THAT IS BELOW THIS LINE\n",
    "\"\"\"\n",
    "tests.test_get_inputs(get_inputs)"
   ]
  },
  {
   "cell_type": "markdown",
   "metadata": {},
   "source": [
    "### Build RNN Cell and Initialize\n",
    "Stack one or more [`BasicLSTMCells`](https://www.tensorflow.org/api_docs/python/tf/contrib/rnn/BasicLSTMCell) in a [`MultiRNNCell`](https://www.tensorflow.org/api_docs/python/tf/contrib/rnn/MultiRNNCell).\n",
    "- The Rnn size should be set using `rnn_size`\n",
    "- Initalize Cell State using the MultiRNNCell's [`zero_state()`](https://www.tensorflow.org/api_docs/python/tf/contrib/rnn/MultiRNNCell#zero_state) function\n",
    "    - Apply the name \"initial_state\" to the initial state using [`tf.identity()`](https://www.tensorflow.org/api_docs/python/tf/identity)\n",
    "\n",
    "Return the cell and initial state in the following tuple `(Cell, InitialState)`"
   ]
  },
  {
   "cell_type": "code",
   "execution_count": 16,
   "metadata": {},
   "outputs": [
    {
     "name": "stdout",
     "output_type": "stream",
     "text": [
      "Tests Passed\n"
     ]
    }
   ],
   "source": [
    "def get_init_cell(batch_size, rnn_size):\n",
    "    \"\"\"\n",
    "    Create an RNN Cell and initialize it.\n",
    "    :param batch_size: Size of batches\n",
    "    :param rnn_size: Size of RNNs\n",
    "    :return: Tuple (cell, initialize state)\n",
    "    \"\"\"\n",
    "    # TODO: Implement Function\n",
    "    \n",
    "    num_layers = 2\n",
    "    \n",
    "    ### Build the LSTM Cell\n",
    "    # Use a basic LSTM cell\n",
    "    lstm = tf.contrib.rnn.BasicLSTMCell(rnn_size)\n",
    "    \n",
    "    # Stack up multiple LSTM layers, for deep learning\n",
    "    cell = tf.contrib.rnn.MultiRNNCell([lstm] * num_layers)\n",
    "    initial_state = tf.identity(cell.zero_state(batch_size, tf.float32), name=\"initial_state\")\n",
    "   \n",
    "    return cell, initial_state\n",
    "\n",
    "\n",
    "\"\"\"\n",
    "DON'T MODIFY ANYTHING IN THIS CELL THAT IS BELOW THIS LINE\n",
    "\"\"\"\n",
    "tests.test_get_init_cell(get_init_cell)"
   ]
  },
  {
   "cell_type": "markdown",
   "metadata": {},
   "source": [
    "### Word Embedding\n",
    "Apply embedding to `input_data` using TensorFlow.  Return the embedded sequence."
   ]
  },
  {
   "cell_type": "code",
   "execution_count": 17,
   "metadata": {},
   "outputs": [
    {
     "name": "stdout",
     "output_type": "stream",
     "text": [
      "Tests Passed\n"
     ]
    }
   ],
   "source": [
    "def get_embed(input_data, vocab_size, embed_dim):\n",
    "    \"\"\"\n",
    "    Create embedding for <input_data>.\n",
    "    :param input_data: TF placeholder for text input.\n",
    "    :param vocab_size: Number of words in vocabulary.\n",
    "    :param embed_dim: Number of embedding dimensions\n",
    "    :return: Embedded input.\n",
    "    \"\"\"\n",
    "    # TODO: Implement Function\n",
    "\n",
    "    embedding = tf.Variable(tf.random_uniform((vocab_size, embed_dim), -1, 1))\n",
    "    embed = tf.nn.embedding_lookup(embedding, input_data)\n",
    "    return embed\n",
    "\n",
    "\n",
    "\"\"\"\n",
    "DON'T MODIFY ANYTHING IN THIS CELL THAT IS BELOW THIS LINE\n",
    "\"\"\"\n",
    "tests.test_get_embed(get_embed)"
   ]
  },
  {
   "cell_type": "markdown",
   "metadata": {},
   "source": [
    "### Build RNN\n",
    "You created a RNN Cell in the `get_init_cell()` function.  Time to use the cell to create a RNN.\n",
    "- Build the RNN using the [`tf.nn.dynamic_rnn()`](https://www.tensorflow.org/api_docs/python/tf/nn/dynamic_rnn)\n",
    " - Apply the name \"final_state\" to the final state using [`tf.identity()`](https://www.tensorflow.org/api_docs/python/tf/identity)\n",
    "\n",
    "Return the outputs and final_state state in the following tuple `(Outputs, FinalState)` "
   ]
  },
  {
   "cell_type": "code",
   "execution_count": 18,
   "metadata": {},
   "outputs": [
    {
     "name": "stdout",
     "output_type": "stream",
     "text": [
      "Tests Passed\n"
     ]
    }
   ],
   "source": [
    "def build_rnn(cell, inputs):\n",
    "    \"\"\"\n",
    "    Create a RNN using a RNN Cell\n",
    "    :param cell: RNN Cell\n",
    "    :param inputs: Input text data\n",
    "    :return: Tuple (Outputs, Final State)\n",
    "    \"\"\"\n",
    "    # TODO: Implement Function\n",
    "\n",
    "    outputs, final_state = tf.nn.dynamic_rnn(cell, inputs, dtype = tf.float32, initial_state = None)\n",
    "    final_state = tf.identity(final_state, name = \"final_state\")\n",
    "    return outputs, final_state\n",
    "\n",
    "\n",
    "\"\"\"\n",
    "DON'T MODIFY ANYTHING IN THIS CELL THAT IS BELOW THIS LINE\n",
    "\"\"\"\n",
    "tests.test_build_rnn(build_rnn)"
   ]
  },
  {
   "cell_type": "markdown",
   "metadata": {},
   "source": [
    "### Build the Neural Network\n",
    "Apply the functions you implemented above to:\n",
    "- Apply embedding to `input_data` using your `get_embed(input_data, vocab_size, embed_dim)` function.\n",
    "- Build RNN using `cell` and your `build_rnn(cell, inputs)` function.\n",
    "- Apply a fully connected layer with a linear activation and `vocab_size` as the number of outputs.\n",
    "\n",
    "Return the logits and final state in the following tuple (Logits, FinalState) "
   ]
  },
  {
   "cell_type": "code",
   "execution_count": 19,
   "metadata": {},
   "outputs": [
    {
     "name": "stdout",
     "output_type": "stream",
     "text": [
      "Tests Passed\n"
     ]
    }
   ],
   "source": [
    "def build_nn(cell, rnn_size, input_data, vocab_size, embed_dim):\n",
    "    \"\"\"\n",
    "    Build part of the neural network\n",
    "    :param cell: RNN cell\n",
    "    :param rnn_size: Size of rnns\n",
    "    :param input_data: Input data\n",
    "    :param vocab_size: Vocabulary size\n",
    "    :param embed_dim: Number of embedding dimensions\n",
    "    :return: Tuple (Logits, FinalState)\n",
    "    \"\"\"\n",
    "    # TODO: Implement Function\n",
    "    embed = get_embed(input_data, vocab_size, embed_dim)\n",
    "    lstm_output, final_state = build_rnn(cell, embed) \n",
    "    \n",
    "    # Reshape\n",
    "    #seq_output = tf.concat(lstm_output, axis=1)\n",
    "    #x = tf.reshape(seq_output, [-1, rnn_size])\n",
    "    \n",
    "    weights = tf.truncated_normal_initializer(stddev=0.1)\n",
    "    bias = tf.zeros_initializer()\n",
    "    \n",
    "    logits = tf.contrib.layers.fully_connected(lstm_output, vocab_size, weights_initializer = weights, biases_initializer = bias, activation_fn= None)\n",
    "                       \n",
    "    return logits, final_state\n",
    "\n",
    "\n",
    "\"\"\"\n",
    "DON'T MODIFY ANYTHING IN THIS CELL THAT IS BELOW THIS LINE\n",
    "\"\"\"\n",
    "tests.test_build_nn(build_nn)"
   ]
  },
  {
   "cell_type": "markdown",
   "metadata": {},
   "source": [
    "### Batches\n",
    "Implement `get_batches` to create batches of input and targets using `int_text`.  The batches should be a Numpy array with the shape `(number of batches, 2, batch size, sequence length)`. Each batch contains two elements:\n",
    "- The first element is a single batch of **input** with the shape `[batch size, sequence length]`\n",
    "- The second element is a single batch of **targets** with the shape `[batch size, sequence length]`\n",
    "\n",
    "If you can't fill the last batch with enough data, drop the last batch.\n",
    "\n",
    "For exmple, `get_batches([1, 2, 3, 4, 5, 6, 7, 8, 9, 10, 11, 12, 13, 14, 15, 16, 17, 18, 19, 20], 3, 2)` would return a Numpy array of the following:\n",
    "```\n",
    "[\n",
    "  # First Batch\n",
    "  [\n",
    "    # Batch of Input\n",
    "    [[ 1  2], [ 7  8], [13 14]]\n",
    "    # Batch of targets\n",
    "    [[ 2  3], [ 8  9], [14 15]]\n",
    "  ]\n",
    "\n",
    "  # Second Batch\n",
    "  [\n",
    "    # Batch of Input\n",
    "    [[ 3  4], [ 9 10], [15 16]]\n",
    "    # Batch of targets\n",
    "    [[ 4  5], [10 11], [16 17]]\n",
    "  ]\n",
    "\n",
    "  # Third Batch\n",
    "  [\n",
    "    # Batch of Input\n",
    "    [[ 5  6], [11 12], [17 18]]\n",
    "    # Batch of targets\n",
    "    [[ 6  7], [12 13], [18  1]]\n",
    "  ]\n",
    "]\n",
    "```\n",
    "\n",
    "Notice that the last target value in the last batch is the first input value of the first batch. In this case, `1`. This is a common technique used when creating sequence batches, although it is rather unintuitive."
   ]
  },
  {
   "cell_type": "code",
   "execution_count": 20,
   "metadata": {},
   "outputs": [
    {
     "name": "stdout",
     "output_type": "stream",
     "text": [
      "Tests Passed\n"
     ]
    }
   ],
   "source": [
    "def get_batches(int_text, batch_size, seq_length):\n",
    "    \"\"\"\n",
    "    Return batches of input and target\n",
    "    :param int_text: Text with the words replaced by their ids\n",
    "    :param batch_size: The size of batch\n",
    "    :param seq_length: The length of sequence\n",
    "    :return: Batches as a Numpy array\n",
    "    \"\"\"\n",
    "    # TODO: Implement Function\n",
    "    text_len = len(int_text)\n",
    "    total_batch = batch_size * seq_length\n",
    "    no_batches = text_len // total_batch\n",
    "    int_text = np.array(int_text[:total_batch * no_batches])\n",
    "\n",
    "    # Create offsetting targets\n",
    "\n",
    "    targets = np.zeros_like(int_text)\n",
    "    targets[:-1], targets[-1] = int_text[1:], int_text[0]\n",
    "\n",
    "    # Create output array\n",
    "\n",
    "    output = np.zeros(len(int_text) * 2)\n",
    "    output = np.resize(output,(no_batches,2,batch_size,seq_length))\n",
    "\n",
    "    # inputs\n",
    "    int_text = np.reshape(int_text,(batch_size,-1))\n",
    "\n",
    "    for bs in range(0,batch_size):\n",
    "        for nb in range(0,no_batches):\n",
    "            output[nb,0,bs] = int_text[bs,nb * seq_length : nb * seq_length + seq_length]\n",
    "\n",
    "    # targets\n",
    "    targets = np.reshape(targets,(batch_size,-1))\n",
    "\n",
    "    for bs in range(0,batch_size):\n",
    "        for nb in range(0,no_batches):\n",
    "            output[nb,1,bs] = targets[bs,nb * seq_length : nb * seq_length + seq_length]\n",
    "\n",
    "    return output\n",
    "\n",
    "\n",
    "\"\"\"\n",
    "DON'T MODIFY ANYTHING IN THIS CELL THAT IS BELOW THIS LINE\n",
    "\"\"\"\n",
    "tests.test_get_batches(get_batches)"
   ]
  },
  {
   "cell_type": "markdown",
   "metadata": {},
   "source": [
    "## Neural Network Training\n",
    "### Hyperparameters\n",
    "Tune the following parameters:\n",
    "\n",
    "- Set `num_epochs` to the number of epochs.\n",
    "- Set `batch_size` to the batch size.\n",
    "- Set `rnn_size` to the size of the RNNs.\n",
    "- Set `embed_dim` to the size of the embedding.\n",
    "- Set `seq_length` to the length of sequence.\n",
    "- Set `learning_rate` to the learning rate.\n",
    "- Set `show_every_n_batches` to the number of batches the neural network should print progress."
   ]
  },
  {
   "cell_type": "code",
   "execution_count": 24,
   "metadata": {
    "collapsed": true
   },
   "outputs": [],
   "source": [
    "# Number of Epochs\n",
    "num_epochs = 80\n",
    "# Batch Size\n",
    "batch_size = 128\n",
    "# RNN Size\n",
    "rnn_size = 512\n",
    "# Embedding Dimension Size\n",
    "embed_dim = 200\n",
    "# Sequence Length\n",
    "seq_length = 8\n",
    "# Learning Rate\n",
    "learning_rate = .001\n",
    "# Show stats for every n number of batches\n",
    "show_every_n_batches = 50\n",
    "\n",
    "\"\"\"\n",
    "DON'T MODIFY ANYTHING IN THIS CELL THAT IS BELOW THIS LINE\n",
    "\"\"\"\n",
    "save_dir = './save'"
   ]
  },
  {
   "cell_type": "markdown",
   "metadata": {},
   "source": [
    "### Build the Graph\n",
    "Build the graph using the neural network you implemented."
   ]
  },
  {
   "cell_type": "code",
   "execution_count": 25,
   "metadata": {
    "collapsed": true
   },
   "outputs": [],
   "source": [
    "\"\"\"\n",
    "DON'T MODIFY ANYTHING IN THIS CELL\n",
    "\"\"\"\n",
    "from tensorflow.contrib import seq2seq\n",
    "\n",
    "train_graph = tf.Graph()\n",
    "with train_graph.as_default():\n",
    "    vocab_size = len(int_to_vocab)\n",
    "    input_text, targets, lr = get_inputs()\n",
    "    input_data_shape = tf.shape(input_text)\n",
    "    cell, initial_state = get_init_cell(input_data_shape[0], rnn_size)\n",
    "    logits, final_state = build_nn(cell, rnn_size, input_text, vocab_size, embed_dim)\n",
    "\n",
    "    # Probabilities for generating words\n",
    "    probs = tf.nn.softmax(logits, name='probs')\n",
    "\n",
    "    # Loss function\n",
    "    cost = seq2seq.sequence_loss(\n",
    "        logits,\n",
    "        targets,\n",
    "        tf.ones([input_data_shape[0], input_data_shape[1]]))\n",
    "\n",
    "    # Optimizer\n",
    "    optimizer = tf.train.AdamOptimizer(lr)\n",
    "\n",
    "    # Gradient Clipping\n",
    "    gradients = optimizer.compute_gradients(cost)\n",
    "    capped_gradients = [(tf.clip_by_value(grad, -1., 1.), var) for grad, var in gradients if grad is not None]\n",
    "    train_op = optimizer.apply_gradients(capped_gradients)"
   ]
  },
  {
   "cell_type": "markdown",
   "metadata": {},
   "source": [
    "## Train\n",
    "Train the neural network on the preprocessed data.  If you have a hard time getting a good loss, check the [forms](https://discussions.udacity.com/) to see if anyone is having the same problem."
   ]
  },
  {
   "cell_type": "code",
   "execution_count": 26,
   "metadata": {
    "scrolled": false
   },
   "outputs": [
    {
     "name": "stdout",
     "output_type": "stream",
     "text": [
      "Epoch   0 Batch    0/165   train_loss = 9.893\n",
      "Epoch   0 Batch   50/165   train_loss = 7.120\n",
      "Epoch   0 Batch  100/165   train_loss = 6.816\n",
      "Epoch   0 Batch  150/165   train_loss = 6.771\n",
      "Epoch   1 Batch   35/165   train_loss = 6.450\n",
      "Epoch   1 Batch   85/165   train_loss = 6.353\n",
      "Epoch   1 Batch  135/165   train_loss = 6.486\n",
      "Epoch   2 Batch   20/165   train_loss = 6.278\n",
      "Epoch   2 Batch   70/165   train_loss = 6.036\n",
      "Epoch   2 Batch  120/165   train_loss = 5.893\n",
      "Epoch   3 Batch    5/165   train_loss = 5.883\n",
      "Epoch   3 Batch   55/165   train_loss = 5.763\n",
      "Epoch   3 Batch  105/165   train_loss = 5.878\n",
      "Epoch   3 Batch  155/165   train_loss = 5.827\n",
      "Epoch   4 Batch   40/165   train_loss = 5.325\n",
      "Epoch   4 Batch   90/165   train_loss = 5.361\n",
      "Epoch   4 Batch  140/165   train_loss = 5.346\n",
      "Epoch   5 Batch   25/165   train_loss = 5.148\n",
      "Epoch   5 Batch   75/165   train_loss = 5.185\n",
      "Epoch   5 Batch  125/165   train_loss = 5.059\n",
      "Epoch   6 Batch   10/165   train_loss = 4.947\n",
      "Epoch   6 Batch   60/165   train_loss = 4.960\n",
      "Epoch   6 Batch  110/165   train_loss = 4.794\n",
      "Epoch   6 Batch  160/165   train_loss = 4.639\n",
      "Epoch   7 Batch   45/165   train_loss = 4.564\n",
      "Epoch   7 Batch   95/165   train_loss = 4.734\n",
      "Epoch   7 Batch  145/165   train_loss = 4.494\n",
      "Epoch   8 Batch   30/165   train_loss = 4.288\n",
      "Epoch   8 Batch   80/165   train_loss = 4.179\n",
      "Epoch   8 Batch  130/165   train_loss = 4.257\n",
      "Epoch   9 Batch   15/165   train_loss = 4.042\n",
      "Epoch   9 Batch   65/165   train_loss = 4.018\n",
      "Epoch   9 Batch  115/165   train_loss = 3.875\n",
      "Epoch  10 Batch    0/165   train_loss = 3.600\n",
      "Epoch  10 Batch   50/165   train_loss = 3.625\n",
      "Epoch  10 Batch  100/165   train_loss = 3.642\n",
      "Epoch  10 Batch  150/165   train_loss = 3.495\n",
      "Epoch  11 Batch   35/165   train_loss = 3.401\n",
      "Epoch  11 Batch   85/165   train_loss = 3.317\n",
      "Epoch  11 Batch  135/165   train_loss = 3.373\n",
      "Epoch  12 Batch   20/165   train_loss = 3.166\n",
      "Epoch  12 Batch   70/165   train_loss = 3.110\n",
      "Epoch  12 Batch  120/165   train_loss = 2.961\n",
      "Epoch  13 Batch    5/165   train_loss = 2.814\n",
      "Epoch  13 Batch   55/165   train_loss = 2.690\n",
      "Epoch  13 Batch  105/165   train_loss = 2.770\n",
      "Epoch  13 Batch  155/165   train_loss = 2.666\n",
      "Epoch  14 Batch   40/165   train_loss = 2.511\n",
      "Epoch  14 Batch   90/165   train_loss = 2.763\n",
      "Epoch  14 Batch  140/165   train_loss = 2.492\n",
      "Epoch  15 Batch   25/165   train_loss = 2.351\n",
      "Epoch  15 Batch   75/165   train_loss = 2.290\n",
      "Epoch  15 Batch  125/165   train_loss = 2.247\n",
      "Epoch  16 Batch   10/165   train_loss = 2.080\n",
      "Epoch  16 Batch   60/165   train_loss = 2.047\n",
      "Epoch  16 Batch  110/165   train_loss = 2.195\n",
      "Epoch  16 Batch  160/165   train_loss = 1.839\n",
      "Epoch  17 Batch   45/165   train_loss = 1.883\n",
      "Epoch  17 Batch   95/165   train_loss = 1.964\n",
      "Epoch  17 Batch  145/165   train_loss = 1.859\n",
      "Epoch  18 Batch   30/165   train_loss = 1.632\n",
      "Epoch  18 Batch   80/165   train_loss = 1.649\n",
      "Epoch  18 Batch  130/165   train_loss = 1.754\n",
      "Epoch  19 Batch   15/165   train_loss = 1.611\n",
      "Epoch  19 Batch   65/165   train_loss = 1.696\n",
      "Epoch  19 Batch  115/165   train_loss = 1.593\n",
      "Epoch  20 Batch    0/165   train_loss = 1.459\n",
      "Epoch  20 Batch   50/165   train_loss = 1.333\n",
      "Epoch  20 Batch  100/165   train_loss = 1.467\n",
      "Epoch  20 Batch  150/165   train_loss = 1.365\n",
      "Epoch  21 Batch   35/165   train_loss = 1.123\n",
      "Epoch  21 Batch   85/165   train_loss = 1.242\n",
      "Epoch  21 Batch  135/165   train_loss = 1.312\n",
      "Epoch  22 Batch   20/165   train_loss = 1.141\n",
      "Epoch  22 Batch   70/165   train_loss = 1.136\n",
      "Epoch  22 Batch  120/165   train_loss = 1.112\n",
      "Epoch  23 Batch    5/165   train_loss = 1.121\n",
      "Epoch  23 Batch   55/165   train_loss = 1.042\n",
      "Epoch  23 Batch  105/165   train_loss = 1.004\n",
      "Epoch  23 Batch  155/165   train_loss = 1.019\n",
      "Epoch  24 Batch   40/165   train_loss = 0.954\n",
      "Epoch  24 Batch   90/165   train_loss = 1.026\n",
      "Epoch  24 Batch  140/165   train_loss = 0.910\n",
      "Epoch  25 Batch   25/165   train_loss = 0.929\n",
      "Epoch  25 Batch   75/165   train_loss = 0.806\n",
      "Epoch  25 Batch  125/165   train_loss = 0.816\n",
      "Epoch  26 Batch   10/165   train_loss = 0.768\n",
      "Epoch  26 Batch   60/165   train_loss = 0.799\n",
      "Epoch  26 Batch  110/165   train_loss = 0.838\n",
      "Epoch  26 Batch  160/165   train_loss = 0.733\n",
      "Epoch  27 Batch   45/165   train_loss = 0.749\n",
      "Epoch  27 Batch   95/165   train_loss = 0.712\n",
      "Epoch  27 Batch  145/165   train_loss = 0.741\n",
      "Epoch  28 Batch   30/165   train_loss = 0.709\n",
      "Epoch  28 Batch   80/165   train_loss = 0.674\n",
      "Epoch  28 Batch  130/165   train_loss = 0.720\n",
      "Epoch  29 Batch   15/165   train_loss = 0.726\n",
      "Epoch  29 Batch   65/165   train_loss = 0.734\n",
      "Epoch  29 Batch  115/165   train_loss = 0.637\n",
      "Epoch  30 Batch    0/165   train_loss = 0.679\n",
      "Epoch  30 Batch   50/165   train_loss = 0.617\n",
      "Epoch  30 Batch  100/165   train_loss = 0.669\n",
      "Epoch  30 Batch  150/165   train_loss = 0.624\n",
      "Epoch  31 Batch   35/165   train_loss = 0.523\n",
      "Epoch  31 Batch   85/165   train_loss = 0.633\n",
      "Epoch  31 Batch  135/165   train_loss = 0.608\n",
      "Epoch  32 Batch   20/165   train_loss = 0.580\n",
      "Epoch  32 Batch   70/165   train_loss = 0.676\n",
      "Epoch  32 Batch  120/165   train_loss = 0.595\n",
      "Epoch  33 Batch    5/165   train_loss = 0.632\n",
      "Epoch  33 Batch   55/165   train_loss = 0.628\n",
      "Epoch  33 Batch  105/165   train_loss = 0.585\n",
      "Epoch  33 Batch  155/165   train_loss = 0.625\n",
      "Epoch  34 Batch   40/165   train_loss = 0.562\n",
      "Epoch  34 Batch   90/165   train_loss = 0.654\n",
      "Epoch  34 Batch  140/165   train_loss = 0.563\n",
      "Epoch  35 Batch   25/165   train_loss = 0.633\n",
      "Epoch  35 Batch   75/165   train_loss = 0.542\n",
      "Epoch  35 Batch  125/165   train_loss = 0.557\n",
      "Epoch  36 Batch   10/165   train_loss = 0.532\n",
      "Epoch  36 Batch   60/165   train_loss = 0.571\n",
      "Epoch  36 Batch  110/165   train_loss = 0.573\n",
      "Epoch  36 Batch  160/165   train_loss = 0.511\n",
      "Epoch  37 Batch   45/165   train_loss = 0.570\n",
      "Epoch  37 Batch   95/165   train_loss = 0.528\n",
      "Epoch  37 Batch  145/165   train_loss = 0.522\n",
      "Epoch  38 Batch   30/165   train_loss = 0.556\n",
      "Epoch  38 Batch   80/165   train_loss = 0.531\n",
      "Epoch  38 Batch  130/165   train_loss = 0.568\n",
      "Epoch  39 Batch   15/165   train_loss = 0.581\n",
      "Epoch  39 Batch   65/165   train_loss = 0.593\n",
      "Epoch  39 Batch  115/165   train_loss = 0.544\n",
      "Epoch  40 Batch    0/165   train_loss = 0.552\n",
      "Epoch  40 Batch   50/165   train_loss = 0.528\n",
      "Epoch  40 Batch  100/165   train_loss = 0.564\n",
      "Epoch  40 Batch  150/165   train_loss = 0.523\n",
      "Epoch  41 Batch   35/165   train_loss = 0.442\n",
      "Epoch  41 Batch   85/165   train_loss = 0.559\n",
      "Epoch  41 Batch  135/165   train_loss = 0.531\n",
      "Epoch  42 Batch   20/165   train_loss = 0.491\n",
      "Epoch  42 Batch   70/165   train_loss = 0.605\n",
      "Epoch  42 Batch  120/165   train_loss = 0.529\n",
      "Epoch  43 Batch    5/165   train_loss = 0.563\n",
      "Epoch  43 Batch   55/165   train_loss = 0.574\n",
      "Epoch  43 Batch  105/165   train_loss = 0.522\n",
      "Epoch  43 Batch  155/165   train_loss = 0.569\n",
      "Epoch  44 Batch   40/165   train_loss = 0.507\n",
      "Epoch  44 Batch   90/165   train_loss = 0.609\n",
      "Epoch  44 Batch  140/165   train_loss = 0.523\n",
      "Epoch  45 Batch   25/165   train_loss = 0.583\n",
      "Epoch  45 Batch   75/165   train_loss = 0.512\n",
      "Epoch  45 Batch  125/165   train_loss = 0.531\n",
      "Epoch  46 Batch   10/165   train_loss = 0.493\n",
      "Epoch  46 Batch   60/165   train_loss = 0.539\n",
      "Epoch  46 Batch  110/165   train_loss = 0.547\n",
      "Epoch  46 Batch  160/165   train_loss = 0.489\n",
      "Epoch  47 Batch   45/165   train_loss = 0.543\n",
      "Epoch  47 Batch   95/165   train_loss = 0.512\n",
      "Epoch  47 Batch  145/165   train_loss = 0.528\n",
      "Epoch  48 Batch   30/165   train_loss = 0.553\n",
      "Epoch  48 Batch   80/165   train_loss = 0.523\n",
      "Epoch  48 Batch  130/165   train_loss = 0.557\n",
      "Epoch  49 Batch   15/165   train_loss = 0.577\n",
      "Epoch  49 Batch   65/165   train_loss = 0.598\n",
      "Epoch  49 Batch  115/165   train_loss = 0.546\n",
      "Epoch  50 Batch    0/165   train_loss = 0.569\n",
      "Epoch  50 Batch   50/165   train_loss = 0.536\n",
      "Epoch  50 Batch  100/165   train_loss = 0.569\n",
      "Epoch  50 Batch  150/165   train_loss = 0.555\n",
      "Epoch  51 Batch   35/165   train_loss = 0.458\n",
      "Epoch  51 Batch   85/165   train_loss = 0.604\n",
      "Epoch  51 Batch  135/165   train_loss = 0.556\n",
      "Epoch  52 Batch   20/165   train_loss = 0.521\n",
      "Epoch  52 Batch   70/165   train_loss = 0.603\n",
      "Epoch  52 Batch  120/165   train_loss = 0.540\n",
      "Epoch  53 Batch    5/165   train_loss = 0.572\n",
      "Epoch  53 Batch   55/165   train_loss = 0.589\n",
      "Epoch  53 Batch  105/165   train_loss = 0.555\n",
      "Epoch  53 Batch  155/165   train_loss = 0.580\n",
      "Epoch  54 Batch   40/165   train_loss = 0.526\n",
      "Epoch  54 Batch   90/165   train_loss = 0.606\n",
      "Epoch  54 Batch  140/165   train_loss = 0.532\n",
      "Epoch  55 Batch   25/165   train_loss = 0.581\n",
      "Epoch  55 Batch   75/165   train_loss = 0.514\n",
      "Epoch  55 Batch  125/165   train_loss = 0.522\n",
      "Epoch  56 Batch   10/165   train_loss = 0.497\n",
      "Epoch  56 Batch   60/165   train_loss = 0.545\n",
      "Epoch  56 Batch  110/165   train_loss = 0.562\n",
      "Epoch  56 Batch  160/165   train_loss = 0.488\n",
      "Epoch  57 Batch   45/165   train_loss = 0.563\n",
      "Epoch  57 Batch   95/165   train_loss = 0.516\n",
      "Epoch  57 Batch  145/165   train_loss = 0.528\n",
      "Epoch  58 Batch   30/165   train_loss = 0.544\n",
      "Epoch  58 Batch   80/165   train_loss = 0.530\n",
      "Epoch  58 Batch  130/165   train_loss = 0.554\n",
      "Epoch  59 Batch   15/165   train_loss = 0.572\n",
      "Epoch  59 Batch   65/165   train_loss = 0.575\n",
      "Epoch  59 Batch  115/165   train_loss = 0.528\n",
      "Epoch  60 Batch    0/165   train_loss = 0.545\n",
      "Epoch  60 Batch   50/165   train_loss = 0.514\n",
      "Epoch  60 Batch  100/165   train_loss = 0.551\n",
      "Epoch  60 Batch  150/165   train_loss = 0.518\n",
      "Epoch  61 Batch   35/165   train_loss = 0.425\n",
      "Epoch  61 Batch   85/165   train_loss = 0.564\n",
      "Epoch  61 Batch  135/165   train_loss = 0.517\n",
      "Epoch  62 Batch   20/165   train_loss = 0.482\n",
      "Epoch  62 Batch   70/165   train_loss = 0.596\n",
      "Epoch  62 Batch  120/165   train_loss = 0.509\n",
      "Epoch  63 Batch    5/165   train_loss = 0.561\n",
      "Epoch  63 Batch   55/165   train_loss = 0.576\n",
      "Epoch  63 Batch  105/165   train_loss = 0.532\n",
      "Epoch  63 Batch  155/165   train_loss = 0.574\n",
      "Epoch  64 Batch   40/165   train_loss = 0.494\n",
      "Epoch  64 Batch   90/165   train_loss = 0.606\n",
      "Epoch  64 Batch  140/165   train_loss = 0.515\n",
      "Epoch  65 Batch   25/165   train_loss = 0.583\n",
      "Epoch  65 Batch   75/165   train_loss = 0.510\n",
      "Epoch  65 Batch  125/165   train_loss = 0.514\n",
      "Epoch  66 Batch   10/165   train_loss = 0.496\n",
      "Epoch  66 Batch   60/165   train_loss = 0.538\n",
      "Epoch  66 Batch  110/165   train_loss = 0.548\n",
      "Epoch  66 Batch  160/165   train_loss = 0.473\n",
      "Epoch  67 Batch   45/165   train_loss = 0.549\n",
      "Epoch  67 Batch   95/165   train_loss = 0.512\n",
      "Epoch  67 Batch  145/165   train_loss = 0.511\n",
      "Epoch  68 Batch   30/165   train_loss = 0.539\n",
      "Epoch  68 Batch   80/165   train_loss = 0.511\n",
      "Epoch  68 Batch  130/165   train_loss = 0.551\n",
      "Epoch  69 Batch   15/165   train_loss = 0.571\n",
      "Epoch  69 Batch   65/165   train_loss = 0.563\n",
      "Epoch  69 Batch  115/165   train_loss = 0.536\n",
      "Epoch  70 Batch    0/165   train_loss = 0.551\n",
      "Epoch  70 Batch   50/165   train_loss = 0.536\n",
      "Epoch  70 Batch  100/165   train_loss = 0.566\n",
      "Epoch  70 Batch  150/165   train_loss = 0.546\n",
      "Epoch  71 Batch   35/165   train_loss = 0.446\n",
      "Epoch  71 Batch   85/165   train_loss = 0.594\n",
      "Epoch  71 Batch  135/165   train_loss = 0.554\n",
      "Epoch  72 Batch   20/165   train_loss = 0.525\n",
      "Epoch  72 Batch   70/165   train_loss = 0.623\n",
      "Epoch  72 Batch  120/165   train_loss = 0.556\n",
      "Epoch  73 Batch    5/165   train_loss = 0.581\n",
      "Epoch  73 Batch   55/165   train_loss = 0.581\n",
      "Epoch  73 Batch  105/165   train_loss = 0.558\n",
      "Epoch  73 Batch  155/165   train_loss = 0.574\n",
      "Epoch  74 Batch   40/165   train_loss = 0.514\n",
      "Epoch  74 Batch   90/165   train_loss = 0.594\n",
      "Epoch  74 Batch  140/165   train_loss = 0.526\n",
      "Epoch  75 Batch   25/165   train_loss = 0.599\n",
      "Epoch  75 Batch   75/165   train_loss = 0.502\n",
      "Epoch  75 Batch  125/165   train_loss = 0.523\n",
      "Epoch  76 Batch   10/165   train_loss = 0.491\n",
      "Epoch  76 Batch   60/165   train_loss = 0.541\n",
      "Epoch  76 Batch  110/165   train_loss = 0.547\n",
      "Epoch  76 Batch  160/165   train_loss = 0.487\n",
      "Epoch  77 Batch   45/165   train_loss = 0.547\n",
      "Epoch  77 Batch   95/165   train_loss = 0.514\n",
      "Epoch  77 Batch  145/165   train_loss = 0.507\n",
      "Epoch  78 Batch   30/165   train_loss = 0.540\n",
      "Epoch  78 Batch   80/165   train_loss = 0.508\n",
      "Epoch  78 Batch  130/165   train_loss = 0.556\n",
      "Epoch  79 Batch   15/165   train_loss = 0.573\n",
      "Epoch  79 Batch   65/165   train_loss = 0.564\n",
      "Epoch  79 Batch  115/165   train_loss = 0.520\n",
      "Model Trained and Saved\n"
     ]
    }
   ],
   "source": [
    "\"\"\"\n",
    "DON'T MODIFY ANYTHING IN THIS CELL\n",
    "\"\"\"\n",
    "batches = get_batches(int_text, batch_size, seq_length)\n",
    "\n",
    "with tf.Session(graph=train_graph) as sess:\n",
    "    sess.run(tf.global_variables_initializer())\n",
    "\n",
    "    for epoch_i in range(num_epochs):\n",
    "        state = sess.run(initial_state, {input_text: batches[0][0]})\n",
    "\n",
    "        for batch_i, (x, y) in enumerate(batches):\n",
    "            feed = {\n",
    "                input_text: x,\n",
    "                targets: y,\n",
    "                initial_state: state,\n",
    "                lr: learning_rate}\n",
    "            train_loss, state, _ = sess.run([cost, final_state, train_op], feed)\n",
    "\n",
    "            # Show every <show_every_n_batches> batches\n",
    "            if (epoch_i * len(batches) + batch_i) % show_every_n_batches == 0:\n",
    "                print('Epoch {:>3} Batch {:>4}/{}   train_loss = {:.3f}'.format(\n",
    "                    epoch_i,\n",
    "                    batch_i,\n",
    "                    len(batches),\n",
    "                    train_loss))\n",
    "\n",
    "    # Save Model\n",
    "    saver = tf.train.Saver()\n",
    "    saver.save(sess, save_dir)\n",
    "    print('Model Trained and Saved')"
   ]
  },
  {
   "cell_type": "markdown",
   "metadata": {},
   "source": [
    "## Save Parameters\n",
    "Save `seq_length` and `save_dir` for generating a new TV script."
   ]
  },
  {
   "cell_type": "code",
   "execution_count": 27,
   "metadata": {
    "collapsed": true
   },
   "outputs": [],
   "source": [
    "\"\"\"\n",
    "DON'T MODIFY ANYTHING IN THIS CELL\n",
    "\"\"\"\n",
    "# Save parameters for checkpoint\n",
    "helper.save_params((seq_length, save_dir))"
   ]
  },
  {
   "cell_type": "markdown",
   "metadata": {},
   "source": [
    "# Checkpoint"
   ]
  },
  {
   "cell_type": "code",
   "execution_count": 1,
   "metadata": {},
   "outputs": [
    {
     "ename": "UnpicklingError",
     "evalue": "invalid load key, '<'.",
     "output_type": "error",
     "traceback": [
      "\u001b[0;31m---------------------------------------------------------------------------\u001b[0m",
      "\u001b[0;31mUnpicklingError\u001b[0m                           Traceback (most recent call last)",
      "\u001b[0;32m<ipython-input-1-83d0146f7781>\u001b[0m in \u001b[0;36m<module>\u001b[0;34m()\u001b[0m\n\u001b[1;32m      8\u001b[0m \u001b[0;34m\u001b[0m\u001b[0m\n\u001b[1;32m      9\u001b[0m \u001b[0m_\u001b[0m\u001b[0;34m,\u001b[0m \u001b[0mvocab_to_int\u001b[0m\u001b[0;34m,\u001b[0m \u001b[0mint_to_vocab\u001b[0m\u001b[0;34m,\u001b[0m \u001b[0mtoken_dict\u001b[0m \u001b[0;34m=\u001b[0m \u001b[0mhelper\u001b[0m\u001b[0;34m.\u001b[0m\u001b[0mload_preprocess\u001b[0m\u001b[0;34m(\u001b[0m\u001b[0;34m)\u001b[0m\u001b[0;34m\u001b[0m\u001b[0m\n\u001b[0;32m---> 10\u001b[0;31m \u001b[0mseq_length\u001b[0m\u001b[0;34m,\u001b[0m \u001b[0mload_dir\u001b[0m \u001b[0;34m=\u001b[0m \u001b[0mhelper\u001b[0m\u001b[0;34m.\u001b[0m\u001b[0mload_params\u001b[0m\u001b[0;34m(\u001b[0m\u001b[0;34m)\u001b[0m\u001b[0;34m\u001b[0m\u001b[0m\n\u001b[0m",
      "\u001b[0;32m/Users/rivers/Desktop/all_project/upload/machine_learning_project/min_char_rnn/helper.py\u001b[0m in \u001b[0;36mload_params\u001b[0;34m()\u001b[0m\n\u001b[1;32m     58\u001b[0m     \u001b[0mLoad\u001b[0m \u001b[0mparameters\u001b[0m \u001b[0;32mfrom\u001b[0m \u001b[0mfile\u001b[0m\u001b[0;34m\u001b[0m\u001b[0m\n\u001b[1;32m     59\u001b[0m     \"\"\"\n\u001b[0;32m---> 60\u001b[0;31m     \u001b[0;32mreturn\u001b[0m \u001b[0mpickle\u001b[0m\u001b[0;34m.\u001b[0m\u001b[0mload\u001b[0m\u001b[0;34m(\u001b[0m\u001b[0mopen\u001b[0m\u001b[0;34m(\u001b[0m\u001b[0;34m'params.p'\u001b[0m\u001b[0;34m,\u001b[0m \u001b[0mmode\u001b[0m\u001b[0;34m=\u001b[0m\u001b[0;34m'rb'\u001b[0m\u001b[0;34m)\u001b[0m\u001b[0;34m)\u001b[0m\u001b[0;34m\u001b[0m\u001b[0m\n\u001b[0m",
      "\u001b[0;31mUnpicklingError\u001b[0m: invalid load key, '<'."
     ]
    }
   ],
   "source": [
    "\"\"\"\n",
    "DON'T MODIFY ANYTHING IN THIS CELL\n",
    "\"\"\"\n",
    "import tensorflow as tf\n",
    "import numpy as np\n",
    "import helper\n",
    "import problem_unittests as tests\n",
    "\n",
    "_, vocab_to_int, int_to_vocab, token_dict = helper.load_preprocess()\n",
    "seq_length, load_dir = helper.load_params()"
   ]
  },
  {
   "cell_type": "markdown",
   "metadata": {},
   "source": [
    "## Implement Generate Functions\n",
    "### Get Tensors\n",
    "Get tensors from `loaded_graph` using the function [`get_tensor_by_name()`](https://www.tensorflow.org/api_docs/python/tf/Graph#get_tensor_by_name).  Get the tensors using the following names:\n",
    "- \"input:0\"\n",
    "- \"initial_state:0\"\n",
    "- \"final_state:0\"\n",
    "- \"probs:0\"\n",
    "\n",
    "Return the tensors in the following tuple `(InputTensor, InitialStateTensor, FinalStateTensor, ProbsTensor)` "
   ]
  },
  {
   "cell_type": "code",
   "execution_count": 2,
   "metadata": {},
   "outputs": [
    {
     "name": "stdout",
     "output_type": "stream",
     "text": [
      "Tests Passed\n"
     ]
    }
   ],
   "source": [
    "def get_tensors(loaded_graph):\n",
    "    \"\"\"\n",
    "    Get input, initial state, final state, and probabilities tensor from <loaded_graph>\n",
    "    :param loaded_graph: TensorFlow graph loaded from file\n",
    "    :return: Tuple (InputTensor, InitialStateTensor, FinalStateTensor, ProbsTensor)\n",
    "    \"\"\"\n",
    "    # TODO: Implement Function\n",
    "    InputTensor = loaded_graph.get_tensor_by_name('input:0')\n",
    "    InitialStateTensor = loaded_graph.get_tensor_by_name('initial_state:0')\n",
    "    FinalStateTensor = loaded_graph.get_tensor_by_name('final_state:0')\n",
    "    ProbsTensor = loaded_graph.get_tensor_by_name('probs:0')\n",
    "    \n",
    "    return InputTensor, InitialStateTensor, FinalStateTensor, ProbsTensor\n",
    "\n",
    "\"\"\"\n",
    "DON'T MODIFY ANYTHING IN THIS CELL THAT IS BELOW THIS LINE\n",
    "\"\"\"\n",
    "tests.test_get_tensors(get_tensors)"
   ]
  },
  {
   "cell_type": "markdown",
   "metadata": {},
   "source": [
    "### Choose Word\n",
    "Implement the `pick_word()` function to select the next word using `probabilities`."
   ]
  },
  {
   "cell_type": "code",
   "execution_count": 3,
   "metadata": {},
   "outputs": [
    {
     "name": "stdout",
     "output_type": "stream",
     "text": [
      "Tests Passed\n"
     ]
    }
   ],
   "source": [
    "def pick_word(probabilities, int_to_vocab):\n",
    "    \"\"\"\n",
    "    Pick the next word in the generated text\n",
    "    :param probabilities: Probabilites of the next word\n",
    "    :param int_to_vocab: Dictionary of word ids as the keys and words as the values\n",
    "    :return: String of the predicted word\n",
    "    \"\"\"\n",
    "    # TODO: Implement Function\n",
    "    word = np.random.choice(list(int_to_vocab.values()),p=probabilities)\n",
    "    \n",
    "    return word\n",
    "\n",
    "\n",
    "\"\"\"\n",
    "DON'T MODIFY ANYTHING IN THIS CELL THAT IS BELOW THIS LINE\n",
    "\"\"\"\n",
    "tests.test_pick_word(pick_word)"
   ]
  },
  {
   "cell_type": "markdown",
   "metadata": {},
   "source": [
    "## Generate TV Script\n",
    "This will generate the TV script for you.  Set `gen_length` to the length of TV script you want to generate."
   ]
  },
  {
   "cell_type": "code",
   "execution_count": null,
   "metadata": {},
   "outputs": [
    {
     "name": "stdout",
     "output_type": "stream",
     "text": [
      "(\"'then, fraud then thou, but more dear to life, as from the spirit's \"\n",
      " 'wilderness, the thick which thou withered, for the song, when the moon is '\n",
      " 'awakened, the flood is buried, but gentle gentle was slumber thus in her '\n",
      " 'grave. there is a reward of clouds, and the swallow the water fell. the '\n",
      " \"coursers springsof the soul it was too. ' then shrinks back, and i cry about \"\n",
      " 'to know that others fall, knows by looks, we moulded in mountains. but like '\n",
      " 'shadow after friends and filled with thine own sway;-- from the earth’s '\n",
      " 'waves are shaken, the nations & sorrows not the speed of bacchus, in the '\n",
      " 'blood of the ocean cling, with living green and black both. though far '\n",
      " 'bringing, and when i feeble, i think i arose the night the eyes, like '\n",
      " 'wrecks, in the surge of heaven,, where high oncelighted green the red shades '\n",
      " 'down in clear upin the place of the unfathomable ocean, night in the eden of '\n",
      " 'one fair dew, two by pain')\n",
      "('every grainis has called my poor? what thou be we there in some? and far '\n",
      " \"within, in the drear lawn, and in the spirit's darkness did breakwith, and \"\n",
      " 'high along the dark wave. and where the embowering its winter swell.-- feel, '\n",
      " 'cambria! where now the gloom brings wasting decay,\" like the blood in the '\n",
      " 'joyous and foam, on which she lay the thought! calm in her deep earth lay '\n",
      " 'thus round and husband. like inscription lightning to the world, when every '\n",
      " 'seemed to not partthe age yet yet is power, or to noon knows.(us not break, '\n",
      " \"though 'tis i moved in a mother's grave whose mercy shall he dares a tale of \"\n",
      " \"look, and death to know not, in arms or hell, 'tis to be as i am not in all \"\n",
      " 'shapes be past, but, as though but fly, and fear not the drifted lest the '\n",
      " 'oppressor care, nor the while it must to every well-when mine, i know not '\n",
      " 'for the joy of gold & blood, his fair')\n",
      "('ulysses:the are my father’s waves with resolute spring, and sate upon the '\n",
      " 'mirror of that power which took his soul the prince end the lips he began. '\n",
      " 'the past they took which that from the same smile, to where all other mortal '\n",
      " 'intercourse; and azure, like the fountain of a living shadow; the third '\n",
      " 'never looked thou, and where the voice of good, singing with the shades of '\n",
      " \"death? oh, would where'er that he is gone. yet boy by your home; the perfect \"\n",
      " 'life of famine, and her long image in the drear forest far, the which finds '\n",
      " 'her rainbow shines. famine, haste, whose light is much gone.-- the awful man '\n",
      " 'who prayed to the livein of this spirit smile? by me to all out. wine, there '\n",
      " 'is one in the past of the dream, which bore no other of many tame in heaven. '\n",
      " \"heaven's stream on the dark grass, storm of the soul that is not; the sound \"\n",
      " 'of what will trod, and then i died, to write my own')\n",
      "('let you keep him to that of me, as if the blast the ills of a secret things '\n",
      " 'that fell, vice and rapture, whose harmonious rain, and now consumed the '\n",
      " 'flames they fall; and round them sphered isle, and seemed to wept to all in '\n",
      " 'the place it might to be a quick paradise of this lake of ulysses, truth and '\n",
      " 'the clouds, and punishmentby which i suffer. here, i could not find; my bark '\n",
      " 'is swimming, and smiled, and meat, and beer, and croak, when woe of time '\n",
      " 'never, and with inconstant first sweetness would watch ever powers, even '\n",
      " 'thou mute, and awedby to its panting doom the sweet tear. the boiling means '\n",
      " 'of his own dark hair. i time the while the dire upon the satyr spirit, did '\n",
      " \"move like an balmy smile of ocean's couched is the clouds, and the ghosts of \"\n",
      " 'the parents shall leadthy footsteps of the peace that rests no longer thou '\n",
      " 'art the same of ruin, and she thou art thou, like a wolves with gold,')\n",
      "('i will give the sea of what is done. lucretia. lucretia, alas! what is this? '\n",
      " \"has ye? officer. ' is the range of that garden, though it change to the \"\n",
      " 'story, closed us, to which the sweet wave, under the phantom of the snow, '\n",
      " 'and went along the wall of power, thy enamoured smile for by the peace that '\n",
      " 'misery and love to share in darkness-- in the heaven’s howls on the brain '\n",
      " 'wildly arose,-- shrinks the speechless words, thou wandering spirit, with '\n",
      " 'beautiful without life as a future of the waste, who now, secure with soul! '\n",
      " 'let me not speak, to beatrice. beatrice, to what you have done? lucretia. '\n",
      " 'you has talked or know the stain that we must pass, dies is dull. it, not. i '\n",
      " 'then thou wert not, but power, o thou, to me, o king, of death! what, has '\n",
      " 'not praise or? i. eternal lost. iii. o thou, as thou wert, not')\n",
      "('let me not for here, as i will speak the crimes of polypheme destroyed. '\n",
      " 'ulysses:delighted! i have touched the first sky. in the embowering his noon '\n",
      " \"was winged lean. as he but the wondrous scene, the weak the thunder is o'er \"\n",
      " 'the merry name; the spirit that floats the boundless deep, in the darkness '\n",
      " 'of her beasts, and in thy distant chain thus fell, and start as a voice '\n",
      " 'before the living black breast, and make thy more! but they gone, to perish, '\n",
      " 'where, their hope to the appointed knell. if, then feel thee, less. or is a '\n",
      " 'stranger has thus? and the lest i cry, nor remains before-- the viewless god '\n",
      " 'who knows-- at what most lie hasten to thy praise! peter, at this ruin must '\n",
      " 'die within every living. none to be boiled. but though few and hope, of '\n",
      " 'knowledge upon the blast, and the wave of the ocean long lifted above a '\n",
      " 'folded behind a vain and like its own. i walk into the meteor of')\n",
      "('let her for read the blast that were told. i on the thoughts of sunrise thou '\n",
      " 'the same ruin? for i sate like his cold and woe, and with thy voice did led '\n",
      " 'by an winged her star, whose accents of music were to mighty forms his '\n",
      " 'shape, and he who refuge in blue mirth, whose lightest was once waves and '\n",
      " 'hope-- and on me, and day,\" not to silent tranquillity the silent; yet not '\n",
      " 'the bee with the charmed human own eternity? did hunt the air oft he a power '\n",
      " 'or done, to fancy felt, or moulded gay, nature and the midnight noonday '\n",
      " 'noon, but that from the mantle of the universe. ii! where the winds is cold, '\n",
      " 'my restless are for not sake. i weep; unterrified, or the veil of death? oh, '\n",
      " 'come for! buona notte wing, i am... cardinal gently the curse of that '\n",
      " 'sons.... 1, there is a fool! for so new sake, we cannot wish for crimes,')\n",
      "('let her to be the blood that even to the lightof the throne it was to left '\n",
      " 'the living. the devil who sometimes remains in me; and all the world with '\n",
      " 'him in all wide & yet, is a frail child, at a birth of dread return, thou, '\n",
      " 'which in life; and in thy memory, some never more sleep, so grim my '\n",
      " \"bloodless child is leave. i. your own heart's breast, as from the slaves to \"\n",
      " 'thaw the waters, and in the blood of strangers, pierced her and wise, arose, '\n",
      " \"with eyes, and breath of hope, and o'er the aërial of man, god and ever \"\n",
      " 'appear at thy withered rail once more to more. and by a rest, by which the '\n",
      " 'frame of his soul, that is dead, should now can be death!; yet to me made me '\n",
      " 'than the eternal night. and, where the living centre are brought so loud, '\n",
      " 'belov{`e}d; whilst holy empty of mingling under the house possessed. there, '\n",
      " 'though it is not speak,')\n"
     ]
    }
   ],
   "source": [
    "import pprint\n",
    "gen_length = 200\n",
    "# homer_simpson, moe_szyslak, or Barney_Gumble\n",
    "prime_word = \"sad Hour, selected from all  mourn our loss rouse thy obscure compeers\"\n",
    "\n",
    "\"\"\"\n",
    "DON'T MODIFY ANYTHING IN THIS CELL THAT IS BELOW THIS LINE\n",
    "\"\"\"\n",
    "for i in range(10):\n",
    "    loaded_graph = tf.Graph()\n",
    "    with tf.Session(graph=loaded_graph) as sess:\n",
    "        # Load saved model\n",
    "        loader = tf.train.import_meta_graph(load_dir + '.meta')\n",
    "        loader.restore(sess, load_dir)\n",
    "        input_text, initial_state, final_state, probs = get_tensors(loaded_graph)\n",
    "        gen_sentences = prime_word.split()\n",
    "        prev_state = sess.run(initial_state, {input_text: np.array([[1]])})\n",
    "        for n in range(gen_length):\n",
    "            # Dynamic Input\n",
    "            dyn_input = [[vocab_to_int[word] for word in gen_sentences[-seq_length:]]]\n",
    "            dyn_seq_length = len(dyn_input[0])\n",
    "\n",
    "            # Get Prediction\n",
    "            probabilities, prev_state = sess.run(\n",
    "                [probs, final_state],\n",
    "                {input_text: dyn_input, initial_state: prev_state})\n",
    "\n",
    "            pred_word = pick_word(probabilities[dyn_seq_length-1], int_to_vocab)\n",
    "\n",
    "            gen_sentences.append(pred_word)\n",
    "\n",
    "        # Remove tokens\n",
    "        tv_script = ' '.join(gen_sentences)\n",
    "        for key, token in token_dict.items():\n",
    "            ending = ' ' if key in ['\\n', '(', '\"'] else ''\n",
    "            tv_script = tv_script.replace(' ' + token.lower(), key)\n",
    "        tv_script = tv_script.replace('\\n ', '\\n')\n",
    "        tv_script = tv_script.replace('( ', '(')\n",
    "\n",
    "        pprint.pprint(tv_script[len(prime_word)+1:])        "
   ]
  },
  {
   "cell_type": "markdown",
   "metadata": {},
   "source": [
    "# The TV Script is Nonsensical\n",
    "It's ok if the TV script doesn't make any sense.  We trained on less than a megabyte of text.  In order to get good results, you'll have to use a smaller vocabulary or get more data.  Luckly there's more data!  As we mentioned in the begging of this project, this is a subset of [another dataset](https://www.kaggle.com/wcukierski/the-simpsons-by-the-data).  We didn't have you train on all the data, because that would take too long.  However, you are free to train your neural network on all the data.  After you complete the project, of course.\n",
    "# Submitting This Project\n",
    "When submitting this project, make sure to run all the cells before saving the notebook. Save the notebook file as \"dlnd_tv_script_generation.ipynb\" and save it as a HTML file under \"File\" -> \"Download as\". Include the \"helper.py\" and \"problem_unittests.py\" files in your submission."
   ]
  },
  {
   "cell_type": "code",
   "execution_count": null,
   "metadata": {
    "collapsed": true
   },
   "outputs": [],
   "source": []
  }
 ],
 "metadata": {
  "kernelspec": {
   "display_name": "Python 3",
   "language": "python",
   "name": "python3"
  },
  "language_info": {
   "codemirror_mode": {
    "name": "ipython",
    "version": 3
   },
   "file_extension": ".py",
   "mimetype": "text/x-python",
   "name": "python",
   "nbconvert_exporter": "python",
   "pygments_lexer": "ipython3",
   "version": "3.5.3"
  }
 },
 "nbformat": 4,
 "nbformat_minor": 1
}
