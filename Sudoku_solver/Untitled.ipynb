{
 "cells": [
  {
   "cell_type": "code",
   "execution_count": 3,
   "metadata": {
    "collapsed": false
   },
   "outputs": [],
   "source": [
    "import random"
   ]
  },
  {
   "cell_type": "code",
   "execution_count": 4,
   "metadata": {
    "collapsed": true
   },
   "outputs": [],
   "source": [
    "x ='xiaowenhao'\n",
    "y = '@yeah.net'"
   ]
  },
  {
   "cell_type": "code",
   "execution_count": 6,
   "metadata": {
    "collapsed": false
   },
   "outputs": [
    {
     "name": "stdout",
     "output_type": "stream",
     "text": [
      "xiaowenhao1@yeah.net\n",
      "xiaowenhao2@yeah.net\n",
      "xiaowenhao3@yeah.net\n",
      "xiaowenhao4@yeah.net\n",
      "xiaowenhao5@yeah.net\n",
      "xiaowenhao6@yeah.net\n",
      "xiaowenhao7@yeah.net\n",
      "xiaowenhao8@yeah.net\n",
      "xiaowenhao9@yeah.net\n",
      "xiaowenhao10@yeah.net\n",
      "xiaowenhao11@yeah.net\n",
      "xiaowenhao12@yeah.net\n",
      "xiaowenhao13@yeah.net\n",
      "xiaowenhao14@yeah.net\n",
      "xiaowenhao15@yeah.net\n",
      "xiaowenhao16@yeah.net\n",
      "xiaowenhao17@yeah.net\n",
      "xiaowenhao18@yeah.net\n",
      "xiaowenhao19@yeah.net\n",
      "xiaowenhao20@yeah.net\n",
      "xiaowenhao21@yeah.net\n",
      "xiaowenhao22@yeah.net\n",
      "xiaowenhao23@yeah.net\n",
      "xiaowenhao24@yeah.net\n",
      "xiaowenhao25@yeah.net\n",
      "xiaowenhao26@yeah.net\n",
      "xiaowenhao27@yeah.net\n",
      "xiaowenhao28@yeah.net\n",
      "xiaowenhao29@yeah.net\n",
      "xiaowenhao30@yeah.net\n",
      "xiaowenhao31@yeah.net\n",
      "xiaowenhao32@yeah.net\n",
      "xiaowenhao33@yeah.net\n",
      "xiaowenhao34@yeah.net\n",
      "xiaowenhao35@yeah.net\n",
      "xiaowenhao36@yeah.net\n",
      "xiaowenhao37@yeah.net\n",
      "xiaowenhao38@yeah.net\n",
      "xiaowenhao39@yeah.net\n",
      "xiaowenhao40@yeah.net\n",
      "xiaowenhao41@yeah.net\n",
      "xiaowenhao42@yeah.net\n",
      "xiaowenhao43@yeah.net\n",
      "xiaowenhao44@yeah.net\n",
      "xiaowenhao45@yeah.net\n",
      "xiaowenhao46@yeah.net\n",
      "xiaowenhao47@yeah.net\n",
      "xiaowenhao48@yeah.net\n",
      "xiaowenhao49@yeah.net\n",
      "xiaowenhao50@yeah.net\n",
      "xiaowenhao51@yeah.net\n",
      "xiaowenhao52@yeah.net\n",
      "xiaowenhao53@yeah.net\n",
      "xiaowenhao54@yeah.net\n",
      "xiaowenhao55@yeah.net\n",
      "xiaowenhao56@yeah.net\n",
      "xiaowenhao57@yeah.net\n",
      "xiaowenhao58@yeah.net\n",
      "xiaowenhao59@yeah.net\n",
      "xiaowenhao60@yeah.net\n",
      "xiaowenhao61@yeah.net\n",
      "xiaowenhao62@yeah.net\n",
      "xiaowenhao63@yeah.net\n",
      "xiaowenhao64@yeah.net\n",
      "xiaowenhao65@yeah.net\n",
      "xiaowenhao66@yeah.net\n",
      "xiaowenhao67@yeah.net\n",
      "xiaowenhao68@yeah.net\n",
      "xiaowenhao69@yeah.net\n",
      "xiaowenhao70@yeah.net\n",
      "xiaowenhao71@yeah.net\n",
      "xiaowenhao72@yeah.net\n",
      "xiaowenhao73@yeah.net\n",
      "xiaowenhao74@yeah.net\n",
      "xiaowenhao75@yeah.net\n",
      "xiaowenhao76@yeah.net\n",
      "xiaowenhao77@yeah.net\n",
      "xiaowenhao78@yeah.net\n",
      "xiaowenhao79@yeah.net\n",
      "xiaowenhao80@yeah.net\n",
      "xiaowenhao81@yeah.net\n",
      "xiaowenhao82@yeah.net\n",
      "xiaowenhao83@yeah.net\n",
      "xiaowenhao84@yeah.net\n",
      "xiaowenhao85@yeah.net\n",
      "xiaowenhao86@yeah.net\n",
      "xiaowenhao87@yeah.net\n",
      "xiaowenhao88@yeah.net\n",
      "xiaowenhao89@yeah.net\n",
      "xiaowenhao90@yeah.net\n",
      "xiaowenhao91@yeah.net\n",
      "xiaowenhao92@yeah.net\n",
      "xiaowenhao93@yeah.net\n",
      "xiaowenhao94@yeah.net\n",
      "xiaowenhao95@yeah.net\n",
      "xiaowenhao96@yeah.net\n",
      "xiaowenhao97@yeah.net\n",
      "xiaowenhao98@yeah.net\n",
      "xiaowenhao99@yeah.net\n"
     ]
    }
   ],
   "source": [
    "for item in range(1,100):\n",
    "    print(x+str(item)+y)"
   ]
  },
  {
   "cell_type": "code",
   "execution_count": null,
   "metadata": {
    "collapsed": true
   },
   "outputs": [],
   "source": []
  }
 ],
 "metadata": {
  "kernelspec": {
   "display_name": "Python 3",
   "language": "python",
   "name": "python3"
  },
  "language_info": {
   "codemirror_mode": {
    "name": "ipython",
    "version": 3
   },
   "file_extension": ".py",
   "mimetype": "text/x-python",
   "name": "python",
   "nbconvert_exporter": "python",
   "pygments_lexer": "ipython3",
   "version": "3.6.0"
  }
 },
 "nbformat": 4,
 "nbformat_minor": 2
}
