{
 "cells": [
  {
   "cell_type": "markdown",
   "metadata": {},
   "source": [
    "## Udacity DAND Project 3 – Wrangle OpenStreetMap Data\n"
   ]
  },
  {
   "cell_type": "markdown",
   "metadata": {},
   "source": [
    "\n",
    "### Introduction\n",
    "\n",
    "In this project, I'll use XML data downloaded from OpenStreetMap to perform some data analysis on Chicago. \n",
    "\n",
    "The reason I choose Chicago is that I'm a huge fan of Milton Friedman who was once a professor in the university of Chicago, and I'm planning to pay a visit to Chicago this year.\n",
    "\n",
    "In this project, I'll clean the data first and then store the data into Sqlite. After that, I'll perform some data analysis using the data stored in Sqlite. \n",
    "\n",
    "My goal is to try to figure out what I can eat , play and entertain there.\n",
    "\n",
    "[map link](https://s3.amazonaws.com/metro-extracts.mapzen.com/chicago_illinois.osm.bz2)"
   ]
  },
  {
   "cell_type": "markdown",
   "metadata": {},
   "source": [
    "\n",
    "### Problems Encountered In The Map\n",
    "\n",
    "The Chicago_illinois.osm file is roughly 2GB\n",
    "\n",
    "As suggested during the case study, First I use the code in sample_file.ipynb to get a sample file of Chicago,which is 1/100 the size of the original file.\n",
    "\n",
    "and here is a brief summary of fisrt level tag of my sample file\n",
    "\n",
    "```\n",
    "    {'member': 732,\n",
    "     'nd': 101177,\n",
    "     'node': 86948,\n",
    "     'osm': 1,\n",
    "     'relation': 48,\n",
    "     'tag': 67374,\n",
    "     'way': 12258}\n",
    "```\n",
    "\n",
    "Then, I follow the procedure in case study to check if any problematic data exits in keys \n",
    "\n",
    "```\n",
    "    {'lower': 20427, 'lower_colon': 30978, 'other': 15969, 'problemchars': 0}\n",
    "```\n",
    "\n",
    "To get a better understanding of the keys, i also print out the keys, and took a glimps of these keys. \n",
    "\n",
    "There are tree values I think I'll need to update\n",
    "\n",
    "- street name\n",
    "\n",
    "For street names,as the problem discussed in the case study, I update all abrreviation such as str. ave. to street and avenue. \n",
    "\n",
    "- post code\n",
    "\n",
    "\n",
    "For post code, which come as a little bit suprise to me, Chicago post code system is simple and nite , it's usually in the form of a five digit number, and sometimes with a 4 digit exitension, so I'll just leave it the way it is. \n",
    "\n",
    "- phone number\n",
    "\n",
    "For the phone number , the format isn't consistent from one to another. For example, Some phone number has \"(\",\")\",\"+\"or \"-\" between numbers while the others don't, So I'll convert them into 10 digits or 11 digits number, depending on whether there is \"1\" in the front of the number, and get rid of all the special characters \n",
    "\n",
    "here is code snippet for the above changes.\n",
    "\n",
    "\n",
    "```\n",
    "\n",
    "    def update_phone_number(value):\n",
    "        value = re.sub(r'\\D', \"\", value)\n",
    "        return value\n",
    "\n",
    "```\n"
   ]
  },
  {
   "cell_type": "markdown",
   "metadata": {},
   "source": [
    "### File Size\n"
   ]
  },
  {
   "cell_type": "markdown",
   "metadata": {},
   "source": [
    "```\n",
    "'chicago_illinois.osm': '1978.33MB',\n",
    "'chicago_illinois_sample.osm': '19.98MB',\n",
    "'mydb.db': '1160.1MB',\n",
    "'nodes.csv': '729.74MB',\n",
    "'nodes_tags.csv': '11.95MB',\n",
    "'ways.csv': '75.95MB',\n",
    "'ways_nodes.csv': '234.79MB',\n",
    "'ways_tags.csv': '212.82MB'\n",
    "```"
   ]
  },
  {
   "cell_type": "markdown",
   "metadata": {},
   "source": [
    "### Import Data To Database\n",
    "\n",
    "After the above cleaning process, I then decide to move on to update the data in the original file and import it into Database\n",
    "\n",
    "I process the data through audit_file.py and updates.py,and write_data.py\n",
    "\n",
    "audit_file.py identifies if any problematic character or unformated data occurs, and updates.py will update it. \n",
    "\n",
    "write_data.py are mainly "
   ]
  },
  {
   "cell_type": "markdown",
   "metadata": {},
   "source": [
    "### Perform Data Analysis\n",
    "\n"
   ]
  },
  {
   "cell_type": "code",
   "execution_count": 14,
   "metadata": {
    "collapsed": true
   },
   "outputs": [],
   "source": [
    "import sqlite3\n",
    "import pandas as pd\n",
    "import matplotlib.pyplot as plt\n",
    "import seaborn as sns\n",
    "import pprint\n",
    "%matplotlib inline\n",
    "sns.set(color_codes=True)\n",
    "sqlite_file = 'mydb.db'\n",
    "\n",
    "# Connect to the database and get a cursor object\n",
    "conn = sqlite3.connect(sqlite_file)\n",
    "cursor = conn.cursor()\n"
   ]
  },
  {
   "cell_type": "code",
   "execution_count": 16,
   "metadata": {
    "collapsed": false
   },
   "outputs": [
    {
     "data": {
      "text/html": [
       "<div>\n",
       "<table border=\"1\" class=\"dataframe\">\n",
       "  <thead>\n",
       "    <tr style=\"text-align: right;\">\n",
       "      <th></th>\n",
       "      <th>Table</th>\n",
       "      <th>Stat</th>\n",
       "    </tr>\n",
       "  </thead>\n",
       "  <tbody>\n",
       "    <tr>\n",
       "      <th>0</th>\n",
       "      <td>nodes_tags</td>\n",
       "      <td>342727</td>\n",
       "    </tr>\n",
       "    <tr>\n",
       "      <th>1</th>\n",
       "      <td>nodes</td>\n",
       "      <td>8694751</td>\n",
       "    </tr>\n",
       "    <tr>\n",
       "      <th>2</th>\n",
       "      <td>ways_nodes</td>\n",
       "      <td>10267457</td>\n",
       "    </tr>\n",
       "    <tr>\n",
       "      <th>3</th>\n",
       "      <td>ways_tags</td>\n",
       "      <td>6375985</td>\n",
       "    </tr>\n",
       "    <tr>\n",
       "      <th>4</th>\n",
       "      <td>ways</td>\n",
       "      <td>1225807</td>\n",
       "    </tr>\n",
       "  </tbody>\n",
       "</table>\n",
       "</div>"
      ],
      "text/plain": [
       "        Table      Stat\n",
       "0  nodes_tags    342727\n",
       "1       nodes   8694751\n",
       "2  ways_nodes  10267457\n",
       "3   ways_tags   6375985\n",
       "4        ways   1225807"
      ]
     },
     "execution_count": 16,
     "metadata": {},
     "output_type": "execute_result"
    }
   ],
   "source": [
    "cursor.execute(\"ANALYZE;\")\n",
    "cursor.execute(\"SELECT tbl, stat FROM sqlite_stat1;\")\n",
    "rows = cursor.fetchall()\n",
    "db_stats = pd.DataFrame(rows[::-1], columns=['Table','Stat'])\n",
    "db_stats"
   ]
  },
  {
   "cell_type": "code",
   "execution_count": 17,
   "metadata": {
    "collapsed": false
   },
   "outputs": [
    {
     "name": "stdout",
     "output_type": "stream",
     "text": [
      "{'nodes': ['id',\n",
      "           'lat',\n",
      "           'lon',\n",
      "           'user',\n",
      "           'uid',\n",
      "           'version',\n",
      "           'changeset',\n",
      "           'timestamp'],\n",
      " 'nodes_tags': ['id', 'key', 'value', 'category'],\n",
      " 'sqlite_stat1': ['tbl', 'idx', 'stat'],\n",
      " 'ways': ['id', 'user', 'uid', 'version', 'changeset', 'timestamp'],\n",
      " 'ways_nodes': ['id', 'node_id', 'position'],\n",
      " 'ways_tags': ['id', 'key', 'value', 'category']}\n"
     ]
    }
   ],
   "source": [
    "cursor.execute(\"SELECT name FROM sqlite_master WHERE type='table';\")\n",
    "table_names =cursor.fetchall()\n",
    "table_names=[i[0] for i in table_names]\n",
    "col_names={}\n",
    "for i in table_names:\n",
    "    cursor.execute('PRAGMA TABLE_INFO({})'.format(i))\n",
    "    col_names[i]=[tup[1] for tup in cursor.fetchall()]\n",
    "pprint.pprint(col_names)\n"
   ]
  },
  {
   "cell_type": "markdown",
   "metadata": {},
   "source": [
    "### Top 10 Contributors"
   ]
  },
  {
   "cell_type": "code",
   "execution_count": 25,
   "metadata": {
    "collapsed": false
   },
   "outputs": [
    {
     "data": {
      "text/html": [
       "<div>\n",
       "<table border=\"1\" class=\"dataframe\">\n",
       "  <thead>\n",
       "    <tr style=\"text-align: right;\">\n",
       "      <th></th>\n",
       "      <th>User ID</th>\n",
       "      <th>User</th>\n",
       "      <th>Contributions</th>\n",
       "      <th>Percentages of Total</th>\n",
       "    </tr>\n",
       "  </thead>\n",
       "  <tbody>\n",
       "    <tr>\n",
       "      <th>0</th>\n",
       "      <td>674454</td>\n",
       "      <td>chicago-buildings</td>\n",
       "      <td>5606367</td>\n",
       "      <td>56.51</td>\n",
       "    </tr>\n",
       "    <tr>\n",
       "      <th>1</th>\n",
       "      <td>567034</td>\n",
       "      <td>Umbugbene</td>\n",
       "      <td>1093941</td>\n",
       "      <td>11.03</td>\n",
       "    </tr>\n",
       "    <tr>\n",
       "      <th>2</th>\n",
       "      <td>130794</td>\n",
       "      <td>alexrudd (NHD)</td>\n",
       "      <td>226078</td>\n",
       "      <td>2.28</td>\n",
       "    </tr>\n",
       "    <tr>\n",
       "      <th>3</th>\n",
       "      <td>147510</td>\n",
       "      <td>woodpeck_fixbot</td>\n",
       "      <td>220460</td>\n",
       "      <td>2.22</td>\n",
       "    </tr>\n",
       "    <tr>\n",
       "      <th>4</th>\n",
       "      <td>169600</td>\n",
       "      <td>patester24</td>\n",
       "      <td>105172</td>\n",
       "      <td>1.06</td>\n",
       "    </tr>\n",
       "    <tr>\n",
       "      <th>5</th>\n",
       "      <td>238419</td>\n",
       "      <td>g246020</td>\n",
       "      <td>104412</td>\n",
       "      <td>1.05</td>\n",
       "    </tr>\n",
       "    <tr>\n",
       "      <th>6</th>\n",
       "      <td>187130</td>\n",
       "      <td>mpinnau</td>\n",
       "      <td>103701</td>\n",
       "      <td>1.05</td>\n",
       "    </tr>\n",
       "    <tr>\n",
       "      <th>7</th>\n",
       "      <td>5387019</td>\n",
       "      <td>Oak_Park_IL</td>\n",
       "      <td>102949</td>\n",
       "      <td>1.04</td>\n",
       "    </tr>\n",
       "    <tr>\n",
       "      <th>8</th>\n",
       "      <td>522978</td>\n",
       "      <td>asdf1234</td>\n",
       "      <td>101109</td>\n",
       "      <td>1.02</td>\n",
       "    </tr>\n",
       "    <tr>\n",
       "      <th>9</th>\n",
       "      <td>120146</td>\n",
       "      <td>TIGERcnl</td>\n",
       "      <td>97078</td>\n",
       "      <td>0.98</td>\n",
       "    </tr>\n",
       "  </tbody>\n",
       "</table>\n",
       "</div>"
      ],
      "text/plain": [
       "   User ID               User  Contributions  Percentages of Total\n",
       "0   674454  chicago-buildings        5606367                 56.51\n",
       "1   567034          Umbugbene        1093941                 11.03\n",
       "2   130794     alexrudd (NHD)         226078                  2.28\n",
       "3   147510    woodpeck_fixbot         220460                  2.22\n",
       "4   169600         patester24         105172                  1.06\n",
       "5   238419            g246020         104412                  1.05\n",
       "6   187130            mpinnau         103701                  1.05\n",
       "7  5387019        Oak_Park_IL         102949                  1.04\n",
       "8   522978           asdf1234         101109                  1.02\n",
       "9   120146           TIGERcnl          97078                  0.98"
      ]
     },
     "execution_count": 25,
     "metadata": {},
     "output_type": "execute_result"
    }
   ],
   "source": [
    "total_nodes_ways = int(db_stats[db_stats['Table']=='nodes']['Stat']) + \\\n",
    "                   int(db_stats[db_stats['Table']=='ways']['Stat'])\n",
    "cursor.execute(\"SELECT uid, user, sum(count) as count FROM \\\n",
    "               (SELECT uid, user, count(*) as count FROM nodes GROUP BY uid \\\n",
    "               UNION \\\n",
    "               SELECT uid, user, count(*) as count FROM ways GROUP BY uid) \\\n",
    "               GROUP BY uid \\\n",
    "               ORDER BY count desc LIMIT 10;\")\n",
    "rows = cursor.fetchall()\n",
    "users = pd.DataFrame(rows, columns=['User ID', 'User', 'Count'])\n",
    "percentages = (users['Count'] / total_nodes_ways * 100).round(decimals=2)\n",
    "users = pd.concat([users, percentages], axis=1)\n",
    "users.columns = ['User ID', 'User', 'Contributions', 'Percentages of Total']\n",
    "users"
   ]
  },
  {
   "cell_type": "markdown",
   "metadata": {},
   "source": [
    "### Top ten cuisines to Eat in Chicago"
   ]
  },
  {
   "cell_type": "code",
   "execution_count": 28,
   "metadata": {
    "collapsed": false
   },
   "outputs": [
    {
     "data": {
      "text/html": [
       "<div>\n",
       "<table border=\"1\" class=\"dataframe\">\n",
       "  <thead>\n",
       "    <tr style=\"text-align: right;\">\n",
       "      <th></th>\n",
       "      <th>Cuisine</th>\n",
       "      <th>Count</th>\n",
       "    </tr>\n",
       "  </thead>\n",
       "  <tbody>\n",
       "    <tr>\n",
       "      <th>0</th>\n",
       "      <td>burger</td>\n",
       "      <td>548</td>\n",
       "    </tr>\n",
       "    <tr>\n",
       "      <th>1</th>\n",
       "      <td>mexican</td>\n",
       "      <td>245</td>\n",
       "    </tr>\n",
       "    <tr>\n",
       "      <th>2</th>\n",
       "      <td>pizza</td>\n",
       "      <td>239</td>\n",
       "    </tr>\n",
       "    <tr>\n",
       "      <th>3</th>\n",
       "      <td>sandwich</td>\n",
       "      <td>205</td>\n",
       "    </tr>\n",
       "    <tr>\n",
       "      <th>4</th>\n",
       "      <td>american</td>\n",
       "      <td>159</td>\n",
       "    </tr>\n",
       "    <tr>\n",
       "      <th>5</th>\n",
       "      <td>coffee_shop</td>\n",
       "      <td>153</td>\n",
       "    </tr>\n",
       "    <tr>\n",
       "      <th>6</th>\n",
       "      <td>chinese</td>\n",
       "      <td>89</td>\n",
       "    </tr>\n",
       "    <tr>\n",
       "      <th>7</th>\n",
       "      <td>italian</td>\n",
       "      <td>89</td>\n",
       "    </tr>\n",
       "    <tr>\n",
       "      <th>8</th>\n",
       "      <td>chicken</td>\n",
       "      <td>86</td>\n",
       "    </tr>\n",
       "    <tr>\n",
       "      <th>9</th>\n",
       "      <td>ice_cream</td>\n",
       "      <td>48</td>\n",
       "    </tr>\n",
       "  </tbody>\n",
       "</table>\n",
       "</div>"
      ],
      "text/plain": [
       "       Cuisine  Count\n",
       "0       burger    548\n",
       "1      mexican    245\n",
       "2        pizza    239\n",
       "3     sandwich    205\n",
       "4     american    159\n",
       "5  coffee_shop    153\n",
       "6      chinese     89\n",
       "7      italian     89\n",
       "8      chicken     86\n",
       "9    ice_cream     48"
      ]
     },
     "execution_count": 28,
     "metadata": {},
     "output_type": "execute_result"
    }
   ],
   "source": [
    "\n",
    "cursor.execute(\"SELECT value, sum(count) as count FROM \\\n",
    "               (SELECT value, count(*) as count FROM nodes_tags WHERE key = 'cuisine' \\\n",
    "               GROUP BY value \\\n",
    "               UNION \\\n",
    "               SELECT value, count(*) as count FROM ways_tags WHERE key = 'cuisine' \\\n",
    "               GROUP BY value) \\\n",
    "               GROUP BY value ORDER BY count desc LIMIT 10;\")\n",
    "rows = cursor.fetchall()\n",
    "cuisines = pd.DataFrame(rows, columns=['Cuisine', 'Count'])\n",
    "cuisines"
   ]
  },
  {
   "cell_type": "markdown",
   "metadata": {},
   "source": [
    "Leisures can be found in Chicago"
   ]
  },
  {
   "cell_type": "code",
   "execution_count": 21,
   "metadata": {
    "collapsed": false
   },
   "outputs": [
    {
     "data": {
      "text/html": [
       "<div>\n",
       "<table border=\"1\" class=\"dataframe\">\n",
       "  <thead>\n",
       "    <tr style=\"text-align: right;\">\n",
       "      <th></th>\n",
       "      <th>Leisure</th>\n",
       "      <th>Count</th>\n",
       "    </tr>\n",
       "  </thead>\n",
       "  <tbody>\n",
       "    <tr>\n",
       "      <th>0</th>\n",
       "      <td>pitch</td>\n",
       "      <td>5926</td>\n",
       "    </tr>\n",
       "    <tr>\n",
       "      <th>1</th>\n",
       "      <td>park</td>\n",
       "      <td>4045</td>\n",
       "    </tr>\n",
       "    <tr>\n",
       "      <th>2</th>\n",
       "      <td>playground</td>\n",
       "      <td>2960</td>\n",
       "    </tr>\n",
       "    <tr>\n",
       "      <th>3</th>\n",
       "      <td>recreation_ground</td>\n",
       "      <td>1287</td>\n",
       "    </tr>\n",
       "    <tr>\n",
       "      <th>4</th>\n",
       "      <td>swimming_pool</td>\n",
       "      <td>506</td>\n",
       "    </tr>\n",
       "    <tr>\n",
       "      <th>5</th>\n",
       "      <td>golf_course</td>\n",
       "      <td>328</td>\n",
       "    </tr>\n",
       "    <tr>\n",
       "      <th>6</th>\n",
       "      <td>sports_centre</td>\n",
       "      <td>277</td>\n",
       "    </tr>\n",
       "    <tr>\n",
       "      <th>7</th>\n",
       "      <td>garden</td>\n",
       "      <td>215</td>\n",
       "    </tr>\n",
       "    <tr>\n",
       "      <th>8</th>\n",
       "      <td>picnic_table</td>\n",
       "      <td>149</td>\n",
       "    </tr>\n",
       "    <tr>\n",
       "      <th>9</th>\n",
       "      <td>nature_reserve</td>\n",
       "      <td>135</td>\n",
       "    </tr>\n",
       "  </tbody>\n",
       "</table>\n",
       "</div>"
      ],
      "text/plain": [
       "             Leisure  Count\n",
       "0              pitch   5926\n",
       "1               park   4045\n",
       "2         playground   2960\n",
       "3  recreation_ground   1287\n",
       "4      swimming_pool    506\n",
       "5        golf_course    328\n",
       "6      sports_centre    277\n",
       "7             garden    215\n",
       "8       picnic_table    149\n",
       "9     nature_reserve    135"
      ]
     },
     "execution_count": 21,
     "metadata": {},
     "output_type": "execute_result"
    }
   ],
   "source": [
    "cursor.execute(\"SELECT value, sum(count) as count FROM \\\n",
    "               (SELECT value, count(*) as count FROM nodes_tags WHERE key = 'leisure' \\\n",
    "               GROUP BY value \\\n",
    "               UNION \\\n",
    "               SELECT value, count(*) as count FROM ways_tags WHERE key = 'leisure' \\\n",
    "               GROUP BY value) \\\n",
    "               GROUP BY value ORDER BY count desc LIMIT 10;\")\n",
    "rows = cursor.fetchall()\n",
    "Leisure = pd.DataFrame(rows, columns=['Leisure', 'Count'])\n",
    "Leisure"
   ]
  },
  {
   "cell_type": "markdown",
   "metadata": {},
   "source": [
    "Shop Categories In Chicago"
   ]
  },
  {
   "cell_type": "code",
   "execution_count": 23,
   "metadata": {
    "collapsed": false
   },
   "outputs": [
    {
     "data": {
      "text/html": [
       "<div>\n",
       "<table border=\"1\" class=\"dataframe\">\n",
       "  <thead>\n",
       "    <tr style=\"text-align: right;\">\n",
       "      <th></th>\n",
       "      <th>shop</th>\n",
       "      <th>Count</th>\n",
       "    </tr>\n",
       "  </thead>\n",
       "  <tbody>\n",
       "    <tr>\n",
       "      <th>0</th>\n",
       "      <td>supermarket</td>\n",
       "      <td>578</td>\n",
       "    </tr>\n",
       "    <tr>\n",
       "      <th>1</th>\n",
       "      <td>convenience</td>\n",
       "      <td>347</td>\n",
       "    </tr>\n",
       "    <tr>\n",
       "      <th>2</th>\n",
       "      <td>clothes</td>\n",
       "      <td>252</td>\n",
       "    </tr>\n",
       "    <tr>\n",
       "      <th>3</th>\n",
       "      <td>car_repair</td>\n",
       "      <td>187</td>\n",
       "    </tr>\n",
       "    <tr>\n",
       "      <th>4</th>\n",
       "      <td>car</td>\n",
       "      <td>144</td>\n",
       "    </tr>\n",
       "    <tr>\n",
       "      <th>5</th>\n",
       "      <td>department_store</td>\n",
       "      <td>136</td>\n",
       "    </tr>\n",
       "    <tr>\n",
       "      <th>6</th>\n",
       "      <td>hairdresser</td>\n",
       "      <td>124</td>\n",
       "    </tr>\n",
       "    <tr>\n",
       "      <th>7</th>\n",
       "      <td>alcohol</td>\n",
       "      <td>108</td>\n",
       "    </tr>\n",
       "    <tr>\n",
       "      <th>8</th>\n",
       "      <td>bakery</td>\n",
       "      <td>100</td>\n",
       "    </tr>\n",
       "    <tr>\n",
       "      <th>9</th>\n",
       "      <td>bicycle</td>\n",
       "      <td>96</td>\n",
       "    </tr>\n",
       "  </tbody>\n",
       "</table>\n",
       "</div>"
      ],
      "text/plain": [
       "               shop  Count\n",
       "0       supermarket    578\n",
       "1       convenience    347\n",
       "2           clothes    252\n",
       "3        car_repair    187\n",
       "4               car    144\n",
       "5  department_store    136\n",
       "6       hairdresser    124\n",
       "7           alcohol    108\n",
       "8            bakery    100\n",
       "9           bicycle     96"
      ]
     },
     "execution_count": 23,
     "metadata": {},
     "output_type": "execute_result"
    }
   ],
   "source": [
    "cursor.execute(\"SELECT value, sum(count) as count FROM \\\n",
    "               (SELECT value, count(*) as count FROM nodes_tags WHERE key = 'shop' \\\n",
    "               GROUP BY value \\\n",
    "               UNION \\\n",
    "               SELECT value, count(*) as count FROM ways_tags WHERE key = 'shop' \\\n",
    "               GROUP BY value) \\\n",
    "               GROUP BY value ORDER BY count desc LIMIT 10;\")\n",
    "rows = cursor.fetchall()\n",
    "Shop = pd.DataFrame(rows, columns=['shop', 'Count'])\n",
    "Shop"
   ]
  },
  {
   "cell_type": "markdown",
   "metadata": {},
   "source": [
    "### An Idea On User contribution\n",
    "\n",
    "I think a clear advantage of data contributed by few contributor is that the data will be more formalty, thus can be easily cleaned. But it also make project hard to scale if few people contribute. \n",
    "\n",
    "So my thought is that,some data type should be specified before hand.For example, data type like phone number and other simple structured data should be required to input digits only, if so, no matter how many people joined the project, we don't have to clean these kind of data again.\n",
    "\n",
    "Another thing i'm considering is that it's hard to see the rewards coming from this open data source project for normal people, so a lot people won't have the incentive to join this project, it obvious restrict the number of contributors. why not take a interview with these top contributors and share the story why they want to contribute to this project on the homepage, it may also give some thoughts to other people what they can get from this projects, and it will definitely help drive the contributor number and motivate them.  \n"
   ]
  },
  {
   "cell_type": "markdown",
   "metadata": {},
   "source": [
    "### Summary"
   ]
  },
  {
   "cell_type": "markdown",
   "metadata": {
    "collapsed": true
   },
   "source": [
    "After this project, I find it quite difficult to get detailed info I needed, but in general, it gives me an overall impression of Chicago and at least I find that there are a lot of golf_course and swimming pools there, so i might google further to find a good swimming pool.\n",
    "\n",
    "Not sure how the user \"chicago-buildings\" can have such a big contribution to this project, it did amazed me,I feel hard to believe someone can contribute such a high percentage to project like this. Really want to know how he/she achieved that.\n",
    "\n",
    "I'm a big fan of cafe,So I'll dig deeper to find delicious cafe shops in Chicago since there are lots of cofe shop there. \n",
    "\n"
   ]
  },
  {
   "cell_type": "code",
   "execution_count": null,
   "metadata": {
    "collapsed": true
   },
   "outputs": [],
   "source": []
  }
 ],
 "metadata": {
  "kernelspec": {
   "display_name": "Python 3",
   "language": "python",
   "name": "python3"
  },
  "language_info": {
   "codemirror_mode": {
    "name": "ipython",
    "version": 3
   },
   "file_extension": ".py",
   "mimetype": "text/x-python",
   "name": "python",
   "nbconvert_exporter": "python",
   "pygments_lexer": "ipython3",
   "version": "3.6.0"
  }
 },
 "nbformat": 4,
 "nbformat_minor": 2
}
