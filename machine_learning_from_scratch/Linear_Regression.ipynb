{
 "cells": [
  {
   "cell_type": "markdown",
   "metadata": {},
   "source": [
    "## 前言"
   ]
  },
  {
   "cell_type": "markdown",
   "metadata": {},
   "source": [
    "学习了这么久机器学习和深度学习，遇到了很多挑战也学到了很多克服问题的方法。而其中最大的收获莫过于make your hand dirty。 在了解了模型的概念之后，一定要去把代码实现，这样才算是有了一定的理解。\n",
    "我发现尽管自己已经有一段时间的机器学习经历，但是成长和理解最快的一段时间就是直接从头自己搭建整个模型。平时用的skit-learn，tensorflow，keras尽管很方便，但是它们隐去了很多模型实现的细节，所以在这个文档中，我希望从头把各个模型搭建一遍，梳理一下自己的知识体系。 "
   ]
  },
  {
   "cell_type": "markdown",
   "metadata": {},
   "source": [
    "## 回归模型"
   ]
  },
  {
   "cell_type": "markdown",
   "metadata": {},
   "source": [
    "作为最基本的模型，论是单变量回归模型或者是多变量回归模型，其在社会科学的应用可谓广泛且深入。"
   ]
  },
  {
   "cell_type": "markdown",
   "metadata": {},
   "source": [
    "$ Y \\approx f(\\beta, X)$  "
   ]
  },
  {
   "cell_type": "markdown",
   "metadata": {},
   "source": [
    "作为一个学渣，我谈不出太多对模型的理解，不过先确定assumption是不是和实际应用的研究对象相符合还是必要的。照猫画虎的结果往往不会很好。\n"
   ]
  },
  {
   "cell_type": "markdown",
   "metadata": {},
   "source": [
    "我把关于assumption，以及回归模型不正确使用的链接放在这里了，提醒自己勤加查看。\n",
    "\n",
    "overfitting leads to underperforming in prediction \n",
    "\n",
    "[illusions in regression analysis](http://repository.upenn.edu/cgi/viewcontent.cgi?article=1190&context=marketing_papers)中有提到milton friedman的一个回归实验。大经济学家用回归模型的进行预测发现结果并不理想\n",
    "\n",
    "最后这样说道”one should focus on tests of outputs (forecasts) rather than statistically significant inputs“ \n",
    "以及“the more complex the regression, the more skeptical I am”\n",
    "\n",
    "[维基百科](https://en.wikipedia.org/wiki/Regression_analysis)： 关于回归模型的介绍\n",
    "\n",
    "[The Illusion of predictability: A call to action.](https://poseidon01.ssrn.com/delivery.php?ID=992074118067117087006070064012087102120084005013002000092118070092025113069122101011106062111041056027030025098110093087077070050015071081017116116116104123113126089053011069007095000002103064104124081115103105001008116099086121072105091099070093012&EXT=pdf) :文章中包括了错误使用的例子以及作者对回归模型的使用建议"
   ]
  },
  {
   "cell_type": "markdown",
   "metadata": {},
   "source": [
    "## 建议"
   ]
  },
  {
   "cell_type": "markdown",
   "metadata": {},
   "source": [
    "总结来讲，当变量较少，数据量大而可靠，变化明显而且可预计，有着公认的因果关系时，回归模型的预测效果会特别好"
   ]
  },
  {
   "cell_type": "markdown",
   "metadata": {},
   "source": [
    "## 模型搭建"
   ]
  },
  {
   "cell_type": "markdown",
   "metadata": {},
   "source": [
    "### 框架"
   ]
  },
  {
   "cell_type": "code",
   "execution_count": null,
   "metadata": {
    "collapsed": true
   },
   "outputs": [],
   "source": []
  }
 ],
 "metadata": {
  "kernelspec": {
   "display_name": "Python 2",
   "language": "python",
   "name": "python2"
  },
  "language_info": {
   "codemirror_mode": {
    "name": "ipython",
    "version": 2
   },
   "file_extension": ".py",
   "mimetype": "text/x-python",
   "name": "python",
   "nbconvert_exporter": "python",
   "pygments_lexer": "ipython2",
   "version": "2.7.13"
  }
 },
 "nbformat": 4,
 "nbformat_minor": 0
}
